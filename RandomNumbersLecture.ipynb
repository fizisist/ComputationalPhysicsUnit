{
 "cells": [
  {
   "cell_type": "markdown",
   "metadata": {},
   "source": [
    "# Random Processes in Computational Physics\n",
    "\n",
    "The contents of this Jupyter Notebook lecture notes are: \n",
    "\n",
    "1. Introduction to Random Numbers in Physics\n",
    "2. Random Number Generation\n",
    "3. Python Packages for Random Numbers\n",
    "4. Coding for Probability (atomic decay example)\n",
    "5. Non-uniform random numbers\n",
    "\n",
    "As usual I recommend you follow along by typing the code snippets into your own file. Don't forget to call the packages etc. at the start of each code file. "
   ]
  },
  {
   "cell_type": "code",
   "execution_count": 2,
   "metadata": {
    "collapsed": true
   },
   "outputs": [],
   "source": [
    "%matplotlib inline\n",
    "import matplotlib.pyplot as plt\n",
    "import numpy as np"
   ]
  },
  {
   "cell_type": "markdown",
   "metadata": {},
   "source": [
    "## Random Processes in Physics \n",
    "\n",
    "Examples of physical processes that are/can be modelled as random include: \n",
    "\n",
    "* Radioactive decay - we know the probability of decay per unit time from quantum physics, but the exact time of the decay is random. \n",
    "\n",
    "![Radioactive Decay](220px-Alpha_Decay.svg.png \"RadioActive Decay\")\n",
    "\n",
    "*  Brownian motion - if we could track the motion of all atomic particles, this would not actually be random, but appears random as we cannot. \n",
    "     Youtube Video of Brownian Motion: https://www.youtube.com/watch?v=cDcprgWiQEY\n",
    "\n",
    "![Brownian Motion](BrownianMotion.jpg \"Brownian Motion\")\n",
    "\n",
    "\n",
    "*  Chaotic systems - again not truely random in the sense of radioactive decay, but can be modelled as random. \n",
    "\n",
    "*  Human or animal behaviour can also be modelled as random in some circumstances.\n",
    "\n"
   ]
  },
  {
   "cell_type": "markdown",
   "metadata": {},
   "source": [
    "## Random Number Generation"
   ]
  },
  {
   "cell_type": "markdown",
   "metadata": {},
   "source": [
    "There are many different ways to generate uniform random numbers over a specified range (such as 0-1).  Physically, we can for example: \n",
    "\n",
    "1. spin a roulette wheel\n",
    "\n",
    "2. draw balls from a lottery\n",
    "\n",
    "3. throw darts at a board\n",
    "\n",
    "4. thow dice \n",
    "\n",
    " However, when we wish to use the numbers in a computer, we need a way to generate the numbers algorithmically.  Numerically/arithmetically, we can use a sequential method where each new number is a deterministic function of the previous numbers.  This destroys their true randomness and makes them at best, \"pseudo-random\".  However, in most cases, it is sufficient if the numbers “look” uniformly distributed and have no correlation between them. i.e. they pass statistical tests and obey the central limit theorem.\n",
    "\n",
    "For example consider the function: \n",
    "\n",
    "$x' = (ax + c) \\mod m$\n",
    "\n",
    "where $a$, $c$ and $m$ are integer constants, and $x$ is an integer variable. Recall that \"$n \\mod m$\"  means you calculate the remainder when $n$ is divided by $m$.\n",
    "\n",
    "Now we can use this to generate a sequence of numbers by putting the outcome of this equation ($x'$) back in as the new starting value ($x$). These will act like random numbers. Try it.....\n",
    "\n",
    "## Class Exercise\n",
    "\n",
    "Starting from $x = 1$ write a short programme which generates 100 values in this sequence and plots them on a graph. Please use the following inputs: \n",
    "\n",
    "a = 1664525\n",
    "\n",
    "c = 1013904223\n",
    "\n",
    "m = 4294967296\n",
    "\n",
    "Tip 1: python syntax for \"mod m\" is: \n",
    "\n",
    ">%m\n",
    "\n",
    "So your base code will look like: \n",
    "\n",
    "> xp = (a*x+c)%m\n",
    "\n",
    "Extension problem: this won't work for all values of a, c and m. Can you find some which don't generate pseudo-random numbers?  "
   ]
  },
  {
   "cell_type": "markdown",
   "metadata": {},
   "source": [
    "This is an example of a simple pseudo-random number generator (PRNG). Technically it's a \"linear congruential random number generator\". Things to note: \n",
    "\n",
    "1. It's not really random\n",
    "2. It can only generate numbers betwen 0 and m-1. \n",
    "3. The choices of a, c and m matter. \n",
    "4. The choice of x also matters. Do you get the same values for x=2? \n",
    "\n",
    "For many codes this is sufficient, but you can do better. Fortunately python (Numpy) comes with a number of better versions as in built packages, so we can benefit from the expertise of others in our computational physics codes. "
   ]
  },
  {
   "cell_type": "markdown",
   "metadata": {},
   "source": [
    "## Good Pseudo-Random Number Generators\n",
    "\n",
    "All pseudo-random number generators (PRNG) should possess a few key properties.  Namely, they should \n",
    "\n",
    "1. be fast and not memory intensive\n",
    "\n",
    "2. be able to reproduce a given stream of random numbers (for debugging/verification of computer programs or so we can use *identical* numbers to compare different systems)\n",
    "\n",
    "3. be able to produce several different independent “streams” of random numbers\n",
    "\n",
    "4. have a long periodicity, so that they do not wrap around and produce the same numbers again within a reasonably long window.\n",
    "\n",
    "To obtain a sequence of pseudo-random numbers, one initilizes the state of the generator with a truly random \"seed\" value and the generator uses that seed to create an initial \"state\", then produces a pseudo-random sequence of numbers from that state.  The sequence will eventually repeat when the generator's state returns to that initial one.  The length of the sequence of non-repeating numbers is the *period* of the PRNG.  It is relatively easy to build PRNGs with periods long enough for many practical applications, but one must be cautious in applying PRNG's to problems that require very large quantities of random numbers.\n",
    "\n",
    "Almost all languages and simulation packages have good built-in generators.  In Python, we can use the NumPy random library, which is based on the Mersenne-Twister algorithm developed in 1997."
   ]
  },
  {
   "cell_type": "markdown",
   "metadata": {},
   "source": [
    "## Python Random Number Library"
   ]
  },
  {
   "cell_type": "code",
   "execution_count": 31,
   "metadata": {
    "collapsed": true
   },
   "outputs": [],
   "source": [
    "#Review the documentation for NumPy's random module:\n",
    "np.random?"
   ]
  },
  {
   "cell_type": "markdown",
   "metadata": {},
   "source": [
    "Some basic functions to point out (we'll get to others in a bit): \n",
    "\n",
    "1. ```random()``` - Uniformly distributed floats over [0, 1]. Will include zero, but not one. If you inclue a number, n in the bracket you get n random floats. \n",
    "2. ```randint(n,m)``` - A single random integer from n to m-1"
   ]
  },
  {
   "cell_type": "code",
   "execution_count": 21,
   "metadata": {
    "collapsed": false
   },
   "outputs": [
    {
     "name": "stdout",
     "output_type": "stream",
     "text": [
      "[ 0.40115296  0.50465077  0.3177794   0.54918773  0.52631088]\n",
      "[ 0.0783344   0.45004139  0.80913139  0.11637612  0.07049277]\n"
     ]
    }
   ],
   "source": [
    "#print 5 uniformly distributed numbers between 0 and 1\n",
    "print(np.random.random(5))\n",
    "#print another 5 - should be different\n",
    "print(np.random.random(5))"
   ]
  },
  {
   "cell_type": "code",
   "execution_count": 4,
   "metadata": {
    "collapsed": false
   },
   "outputs": [
    {
     "name": "stdout",
     "output_type": "stream",
     "text": [
      "[ 8 10  6  9  9]\n",
      "[4 2 6 2 2]\n"
     ]
    }
   ],
   "source": [
    "#print 5 uniformly distributed integers between 1 and 10\n",
    "print(np.random.randint(1,11,5))\n",
    "#print another 5 - should be different\n",
    "print(np.random.randint(1,11,5))"
   ]
  },
  {
   "cell_type": "markdown",
   "metadata": {},
   "source": [
    "Notice you have to use 1-11 for the range. Why? "
   ]
  },
  {
   "cell_type": "code",
   "execution_count": 22,
   "metadata": {
    "collapsed": false
   },
   "outputs": [
    {
     "name": "stdout",
     "output_type": "stream",
     "text": [
      "The number is  0.9838484803882894\n",
      "0.798482791719651\n",
      "The number is still 0.9838484803882894\n"
     ]
    }
   ],
   "source": [
    "#If you want to save a random number for future use: \n",
    "\n",
    "z=np.random.random()\n",
    "\n",
    "print(\"The number is \",z)\n",
    "#Rerun random\n",
    "print(np.random.random())\n",
    "\n",
    "print(\"The number is still\",z)\n"
   ]
  },
  {
   "cell_type": "markdown",
   "metadata": {},
   "source": [
    "## In Class Exercise - Rolling Dice\n",
    "\n",
    "1. Write a programme that generates and prints out two random numbers between 1 and 6. This simulates the rolling of two dice.\n",
    "\n",
    "2. Now modify the programme to simulate making 2 million rolls of two dice. What fraction of the time do you get double six? \n",
    "\n",
    "3. Extension: Plot a histogram of the frequency of the total of the two dice over the 2 million rolls."
   ]
  },
  {
   "cell_type": "markdown",
   "metadata": {},
   "source": [
    "## Seeded Random Numbers\n",
    "\n",
    "Sometimes in computational physics we want to generate the same series of pseudo-random numbers many times. This can be done with 'seeds'. "
   ]
  },
  {
   "cell_type": "code",
   "execution_count": 24,
   "metadata": {
    "collapsed": false
   },
   "outputs": [
    {
     "name": "stdout",
     "output_type": "stream",
     "text": [
      "0.3745401188473625\n",
      "0.9507143064099162\n",
      "0.7319939418114051\n",
      "0.5986584841970366\n"
     ]
    }
   ],
   "source": [
    "np.random.seed(42)\n",
    "for i in range(4):\n",
    "    print(np.random.random())"
   ]
  },
  {
   "cell_type": "code",
   "execution_count": 25,
   "metadata": {
    "collapsed": false
   },
   "outputs": [
    {
     "name": "stdout",
     "output_type": "stream",
     "text": [
      "0.3745401188473625\n",
      "0.9507143064099162\n",
      "0.7319939418114051\n",
      "0.5986584841970366\n"
     ]
    }
   ],
   "source": [
    "np.random.seed(42)\n",
    "for i in range(4):\n",
    "    print(np.random.random())"
   ]
  },
  {
   "cell_type": "code",
   "execution_count": 26,
   "metadata": {
    "collapsed": false
   },
   "outputs": [
    {
     "name": "stdout",
     "output_type": "stream",
     "text": [
      "0.4076870280802861\n",
      "0.05536604011186008\n",
      "0.7885348774867527\n",
      "0.28730518478934586\n"
     ]
    }
   ],
   "source": [
    "np.random.seed(40)\n",
    "for i in range(4):\n",
    "    print(np.random.random())"
   ]
  },
  {
   "cell_type": "markdown",
   "metadata": {},
   "source": [
    "You might want to do this for: \n",
    "\n",
    "1. Debugging\n",
    "2. Code repeatability (i.e. when you hand in code for marking!). "
   ]
  },
  {
   "cell_type": "markdown",
   "metadata": {},
   "source": [
    "## Coding For Probability\n",
    "\n",
    "In some circumstances you will want to write code which simulates various events, each of which happen with a probability, $p$. \n",
    "\n",
    "This can be coded with random numbers. You generate a random number between zero and 1, and allow the event to occur if that number is greater than $p$. \n",
    "\n",
    "For example, consider a biased coin, which returns a head 20% of the time: \n"
   ]
  },
  {
   "cell_type": "code",
   "execution_count": 30,
   "metadata": {
    "collapsed": false
   },
   "outputs": [
    {
     "name": "stdout",
     "output_type": "stream",
     "text": [
      "Tails\n",
      "Tails\n",
      "Tails\n",
      "Heads\n",
      "Tails\n",
      "Tails\n",
      "Tails\n",
      "Tails\n",
      "Tails\n",
      "Heads\n"
     ]
    }
   ],
   "source": [
    "for i in range(10):\n",
    "    if np.random.random()<0.2: \n",
    "        print(\"Heads\")\n",
    "    else:\n",
    "        print(\"Tails\")"
   ]
  },
  {
   "cell_type": "markdown",
   "metadata": {},
   "source": [
    "## In Class Exercise: Radioactive Decay\n",
    "\n",
    "Simulate the decay of 1000 thallium atoms over time, using random number generators to mimick the random process of atomic decay. \n",
    "\n",
    "Thallium-208 decays to stable lead (208) with a half life of 3.053 minutes.\n",
    "\n",
    "The standard equation of radioactive decay (for the number of atoms in the sample as a function of time) is: \n",
    "\n",
    "$$N(t) = N(0) ~ 2^{-t/\\tau}$$\n",
    "\n",
    "where tau is the half life, N(0) is the number of atoms at t=0. Notice that both t and tau must be in the same units. \n",
    "\n",
    "The fraction of atoms which have not yet decayed at any time t, is then: \n",
    "\n",
    "$$\\frac{N(t)}{N(0)} = 2^{-t/\\tau}$$\n",
    "\n",
    "So then the probability that any given atom has decayed by time t (which is the same as the fraction of atoms that have decayed by that time) is: \n",
    "\n",
    "$$p(t) = 1 - 2^{-t/\\tau}$$\n",
    "\n",
    "Use time steps of 1 second and make a plot of the number of thallium and lead atoms as a function of time until 20 minutes have passed. Overplot the half-life of thallium. "
   ]
  },
  {
   "cell_type": "markdown",
   "metadata": {},
   "source": [
    "## Non-Uniform Random Numbers\n",
    "\n",
    "The radioactive decay problem we did in class is an example of a problem which can be coded more efficiently if we could draw random numbers from a distribution other than uniform. \n",
    "\n",
    "In radioactive decay, the probability of decay in a time step $dt$ is\n",
    "\n",
    "$$dp = 1 - 2^{-dt/\\tau}$$\n",
    "\n",
    "This can be expressed as\n",
    "\n",
    "$$dp = 1 - \\exp(-\\frac{dt}{\\tau} \\ln2)$$\n",
    "\n",
    "and the second term can be expanded using it's Taylor expansion, to give a first order approximation of \n",
    "\n",
    "$$dp = \\frac{\\ln2}{\\tau} dt$$ \n",
    "\n",
    "If we want to know the probability of decay between time t and dt this is then: \n",
    "\n",
    "$$P(t) dt = 2^{-t/\\tau} \\frac{\\ln2}{\\tau} dt$$ \n",
    "\n",
    "which is a non-uniform probability (it's larger for small $t$).\n",
    "\n",
    "We could more quickly calculate the decay of a sample of N atoms by drawing random numbers from the above distribution to give decay times for each atom. "
   ]
  },
  {
   "cell_type": "markdown",
   "metadata": {},
   "source": [
    "### Generating Non-Uniform Random Numbers\n",
    "\n",
    "There are at least two methods to generate non-uniform random numbers from a function like the Numpy random function which generates uniform random numbers: \n",
    "\n",
    "1. Rejection Method\n",
    "2. Transformation Method\n",
    "\n",
    "In the rejection method, you generate more random numbers than are needed, and reject them if they are above the value of the probability function you wish to sample from. \n",
    "\n",
    "This is no faster than the probability method - it's basically equivalent.\n",
    "\n",
    "The transformation method is faster. In the transformation method, you need to find a function $f(z)$ which converts unfirmly distribtued random numbers $z$ into random numbers with the desired non-uniform sampling. \n",
    "\n",
    "Most of the Numpy packages for non-uniform random numbers make use of the transformation method. For most physical processes you can make use of a pre-written package which generates random numbers with the desired shape, but in the interests of education, we will work through a couple of examples. \n",
    "\n",
    "### Transformation Method\n",
    "\n",
    "Suppose you have a uniformly distributed random number, $z$, drawn from 0 to 1 (and zero elsewhere). You want a number, $x$ with a probability distribution $p(x)$, and there is going to be some function which relates $x$ and $z$. \n",
    "\n",
    "It must be the case that \n",
    "\n",
    "$$p(x) dx = q(z) dz $$\n",
    "\n",
    "(where $q(z)$ is 1 in the interval zero to 1, and zero elsewhere). \n",
    "\n",
    "If we integrate this equation we get\n",
    "\n",
    "$$ \\int_{-\\infty}^{x(z)} p(x) dx = \\int_0^z dz $$\n",
    "\n",
    "so then \n",
    "\n",
    "$$ z = \\int_{-\\infty}^{x(z)} p(x) dx $$\n",
    "\n",
    "will tell us the function needed to transform the uniform random numbers to random numbers from the distribution p(x). "
   ]
  },
  {
   "cell_type": "markdown",
   "metadata": {},
   "source": [
    "### Generating Numbers with the Exponential distribution\n",
    "\n",
    "The exponential probability distribution is\n",
    "\n",
    "$$p(x) = \\mu e^{-\\mu x}$$\n",
    "\n",
    "where the $\\mu$ is a normalization factor (so that the probability integrates to one from zero to infinity). \n",
    "\n",
    "This is the radioactive decay probability in the case that $\\mu = \\ln2/\\tau$. \n",
    "\n",
    "Put this into the transformation equation above we get\n",
    "\n",
    "$$ z = \\int_{-\\infty}^{x(z)} \\mu e^{-\\mu x} dx = 1 - e^{-\\mu x} $$\n",
    "\n",
    "which can be used to generate numbers from the exponential distribution. \n",
    "\n",
    "## In Class Exercise\n",
    "\n",
    "Redo the radioactive decay problem, but now make use of non-uniform random numbers, to draw N random numbers representing the decay time of N atoms. \n",
    "\n",
    "You can make the plot much more quickly, with a bit of help from the ```sort``` function in ```numpy```.\n",
    "\n",
    "Extension: Also try the rejection method. Notice how similar the code is to the first way we did the problem. \n",
    "\n"
   ]
  },
  {
   "cell_type": "markdown",
   "metadata": {},
   "source": [
    "# Extension Exercise/Homework \n",
    "\n",
    "## Modelling Brownian Motion\n",
    "\n",
    "Simulate the Brownian motion of a particle in two dimension, and make an animation of the output. \n",
    "\n",
    "Set up the particle to be confined to a square grid of size $L \\times L$ (where $L$ is an odd number), and represent it's position using a two-dimensional array of integers. \n",
    "\n",
    "The particles starts in the middle of the grid. At each time step it moves randomly one lattice point in any direction. This is called a 'random walk'. The particle will \"bounce\" off the walls of the grid (ie. at the borders it cannot move in the direction which would take it outside of the grid). \n",
    "\n",
    "Make an animation of the path of the particle over 1 million time steps."
   ]
  },
  {
   "cell_type": "code",
   "execution_count": null,
   "metadata": {
    "collapsed": true
   },
   "outputs": [],
   "source": []
  }
 ],
 "metadata": {
  "anaconda-cloud": {},
  "kernelspec": {
   "display_name": "Python [conda env:py35]",
   "language": "python",
   "name": "conda-env-py35-py"
  },
  "language_info": {
   "codemirror_mode": {
    "name": "ipython",
    "version": 3
   },
   "file_extension": ".py",
   "mimetype": "text/x-python",
   "name": "python",
   "nbconvert_exporter": "python",
   "pygments_lexer": "ipython3",
   "version": "3.5.2"
  }
 },
 "nbformat": 4,
 "nbformat_minor": 1
}
