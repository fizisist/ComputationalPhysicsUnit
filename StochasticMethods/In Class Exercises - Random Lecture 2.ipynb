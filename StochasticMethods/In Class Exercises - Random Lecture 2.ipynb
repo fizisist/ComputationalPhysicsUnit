{
 "cells": [
  {
   "cell_type": "markdown",
   "metadata": {},
   "source": [
    "## In Class Exercise - Rutherford Scattering of a Gaussian Beam of Particles\n",
    "\n",
    "When a positively charged particle passes close to an atom, its path will be deflected (or scatter) by an angle $\\theta$ which obeys the relation: \n",
    "\n",
    "$$\\tan (\\theta/2) = \\frac{Z e^2}{2 \\pi \\epsilon_0 E b} $$\n",
    "\n",
    "where $Z$ is the atomic number, $e$ is the electric charge, $\\epsilon_0$ is the permittivity of free space, $E$ is the kinetic energy of the incident particle, and $b$ is the impact parameter (see diagram). \n",
    "\n",
    "This process is called \"Rutherford Scattering\" after Ernest Rutherford, who was among the first physicists to explore this process. \n",
    "\n",
    "We will model a beam of 1 million $\\alpha$ particles with a 2D Gaussian profile incident on a single atom of Gold. We would like to calculate the fraction of these particles which \"bounce back\" (ie. scatter through angles greater than $\\theta = 90^\\circ$. \n",
    "\n",
    "When bounce back happens, therefore $\\tan (\\theta/2) \\gt 1$, so \n",
    "\n",
    "$$ b \\lt \\frac{Z e^2}{2 \\pi \\epsilon_0 E} $$\n",
    "\n",
    "Write a programme which simulates the incident Gaussian beam and calculates the fraction of particles which bounce back. \n",
    "\n",
    "Please write your own function to calculate Gaussian random numbers using this format: \n",
    "\n",
    "```def gaussian():```\n",
    "\n",
    "YOUR ALGORTHIM HERE\n",
    "\n",
    "```return x,y```\n",
    "\n",
    "Make use of these parameters for the incident beam: \n",
    "\n",
    "1. $E = $7.7 MeV\n",
    "2. $\\sigma = a_0/100$ (where $a_0$ is the Bohr radius). \n",
    "\n",
    "Hint: you can make use of the ```astropy.constants``` module to import various constants you need for this problem. "
   ]
  },
  {
   "cell_type": "code",
   "execution_count": 19,
   "metadata": {
    "collapsed": false
   },
   "outputs": [],
   "source": [
    "from astropy import constants as const\n",
    "import numpy as np\n",
    "import matplotlib.pyplot as plt\n",
    "#This just needed for the Notebook to show plots inline. \n",
    "%matplotlib inline "
   ]
  },
  {
   "cell_type": "code",
   "execution_count": 2,
   "metadata": {
    "collapsed": false
   },
   "outputs": [
    {
     "name": "stdout",
     "output_type": "stream",
     "text": [
      "1.602176565e-19\n",
      "  Name   = Electron charge\n",
      "  Value  = 1.602176565e-19\n",
      "  Uncertainty  = 3.5e-27\n",
      "  Unit  = C\n",
      "  Reference = CODATA 2010\n"
     ]
    }
   ],
   "source": [
    "print(const.e.value)\n",
    "print(const.e)"
   ]
  },
  {
   "cell_type": "code",
   "execution_count": 27,
   "metadata": {
    "collapsed": false
   },
   "outputs": [
    {
     "name": "stdout",
     "output_type": "stream",
     "text": [
      "1207 particles were reflected out of  1000000 incident\n",
      "this is a bounce fraction of 0.00121 +/- 0.00003\n"
     ]
    }
   ],
   "source": [
    "#Atomic Number of Gold\n",
    "Z = 72\n",
    "e = const.e.value\n",
    "E = 7.7e6*e\n",
    "eps0 = const.eps0.value\n",
    "sigma = const.a0.value/100.\n",
    "#print(Z,e,E,eps0,sigma)\n",
    "N = 1000000 #Start small, and increase to 1 million when you're sure the code runs correctly.\n",
    "\n",
    "#Function to generate two sets of random Gaussian numbers. \n",
    "def gaussian():\n",
    "    r = np.sqrt(-2*sigma*sigma*np.log(1-np.random.random()))\n",
    "    theta=2*np.pi*np.random.random()\n",
    "    x=r*np.cos(theta)\n",
    "    y=r*np.sin(theta)\n",
    "    return x,y\n",
    "\n",
    "#Main Programme\n",
    "count = 0 #Initate count of particles bounced back\n",
    "for i in range(N):\n",
    "    x,y=gaussian()\n",
    "    b=np.sqrt(x*x+y*y)\n",
    "#If this is true the particle is bounced back\n",
    "    if b<Z*e*e/(2*np.pi*eps0*E): \n",
    "        count +=1\n",
    "\n",
    "        \n",
    "print(count, \"particles were reflected out of \", N, \"incident\")\n",
    "print(\"this is a bounce fraction of {0:.5f} +/- {1:.5f}\".format(count/N,np.sqrt(count)/N))\n"
   ]
  },
  {
   "cell_type": "markdown",
   "metadata": {},
   "source": [
    "Notice something about $b$?"
   ]
  },
  {
   "cell_type": "code",
   "execution_count": 28,
   "metadata": {
    "collapsed": false
   },
   "outputs": [
    {
     "name": "stdout",
     "output_type": "stream",
     "text": [
      "1650 particles were reflected out of  1000000 incident\n",
      "this is a bounce fraction of 0.00165 +/- 0.00004\n"
     ]
    }
   ],
   "source": [
    "#Atomic Number of Gold\n",
    "Z = 79\n",
    "e = const.e.value\n",
    "E = 7.7e6*e\n",
    "eps0 = const.eps0.value\n",
    "sigma = const.a0.value/100.\n",
    "#print(Z,e,E,eps0,sigma)\n",
    "N = 1000000 #Start small, and increase to 1 million when you're sure the code runs correctly.\n",
    "   \n",
    "#Main Programme\n",
    "count = 0 #Initate count of particles bounced back\n",
    "for i in range(N):\n",
    "    b= np.sqrt(-2*sigma*sigma*np.log(1-np.random.random()))\n",
    "#If this is true the particle is bounced back\n",
    "    if b<Z*e*e/(2*np.pi*eps0*E): \n",
    "        count +=1\n",
    "        \n",
    "print(count, \"particles were reflected out of \", N, \"incident\")\n",
    "print(\"this is a bounce fraction of {0:.5f} +/- {1:.5f}\".format(count/N,np.sqrt(count)/N))\n"
   ]
  },
  {
   "cell_type": "code",
   "execution_count": 29,
   "metadata": {
    "collapsed": true
   },
   "outputs": [],
   "source": [
    "?np.random.normal"
   ]
  },
  {
   "cell_type": "code",
   "execution_count": 33,
   "metadata": {
    "collapsed": false
   },
   "outputs": [
    {
     "name": "stdout",
     "output_type": "stream",
     "text": [
      "79 1.602176565e-19 1.23367595505e-12 8.854187817e-12 5.2917721092e-13\n",
      "0 particles were reflected out of  1000 incident\n",
      "this is a bounce fraction of 0.00000 +/- 0.00000\n"
     ]
    }
   ],
   "source": [
    "#Atomic Number of Gold\n",
    "Z = 79\n",
    "e = const.e.value\n",
    "E = 7.7e6*e\n",
    "eps0 = const.eps0.value\n",
    "sigma = const.a0.value/100.\n",
    "print(Z,e,E,eps0,sigma)\n",
    "N = 1000 #Start small, and increase to 1 million when you're sure the code runs correctly.\n",
    "\n",
    "#Main Programme\n",
    "count = 0 #Initate count of particles bounced back\n",
    "for i in range(N):\n",
    "    x=np.random.normal(0,sigma,1) \n",
    "    y=np.random.normal(0,sigma,1)\n",
    "    b=np.sqrt(x*x+y*y)\n",
    "#If this is true the particle is bounced back\n",
    "    if b<Z*e*e/(2*np.pi*eps0*E): \n",
    "        count +=1\n",
    "        \n",
    "print(count, \"particles were reflected out of \", N, \"incident\")\n",
    "print(\"this is a bounce fraction of {0:.5f} +/- {1:.5f}\".format(count/N,np.sqrt(count)/N))"
   ]
  },
  {
   "cell_type": "markdown",
   "metadata": {},
   "source": [
    "## In Class Exercise: Monte Carlo Integration\n",
    "\n",
    "Write a programme following the method of Monte Carlo Integration to calculate \n",
    "\n",
    "$$ I = \\int_0^2 \\sin^2 [\\frac{1}{x(2-x)}] dx. $$\n",
    "\n",
    "\n",
    "As you will need to calculate $f(x) = \\sin^2 [\\frac{1}{x(2-x)}]$ many times please write a user defined function for this part of your programme. "
   ]
  },
  {
   "cell_type": "code",
   "execution_count": 32,
   "metadata": {
    "collapsed": false
   },
   "outputs": [
    {
     "name": "stdout",
     "output_type": "stream",
     "text": [
      "The integral is equal to I =  1.45064\n"
     ]
    }
   ],
   "source": [
    "#Define the function\n",
    "def f(x):\n",
    "    fx = (np.sin(1/(x*(2-x))))**2\n",
    "    return fx\n",
    "\n",
    "#Integrate the function from x=0-2\n",
    "#Note that you need to know the maximum value of the function\n",
    "#over this range (which is y=1), and therefore the area of the box\n",
    "#from which we draw random number is A=2. \n",
    "N=1000000\n",
    "k=0\n",
    "for i in range(N):\n",
    "    x=2*np.random.random()\n",
    "    y=np.random.random()\n",
    "    if y<f(x):\n",
    "        k+=1\n",
    "A=2.        \n",
    "I=A*k/N\n",
    "print(\"The integral is equal to I = \",I)"
   ]
  }
 ],
 "metadata": {
  "anaconda-cloud": {},
  "kernelspec": {
   "display_name": "Python [conda env:py35]",
   "language": "python",
   "name": "conda-env-py35-py"
  },
  "language_info": {
   "codemirror_mode": {
    "name": "ipython",
    "version": 3
   },
   "file_extension": ".py",
   "mimetype": "text/x-python",
   "name": "python",
   "nbconvert_exporter": "python",
   "pygments_lexer": "ipython3",
   "version": "3.5.2"
  }
 },
 "nbformat": 4,
 "nbformat_minor": 1
}
