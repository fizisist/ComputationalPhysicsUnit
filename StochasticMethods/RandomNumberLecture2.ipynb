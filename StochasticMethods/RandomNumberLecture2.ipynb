{
 "cells": [
  {
   "cell_type": "markdown",
   "metadata": {},
   "source": [
    "# Random Processes in Physics - Lab 2\n",
    "\n",
    "1. Review of last lab - especially techniques to draw random numbers from non-uniform distributions. \n",
    "2. Gaussian Random Numbers\n",
    "   - example modelling Rutherford scattering of a Gaussian beam of particles. \n",
    "3. How random is random? \n",
    "4. Monte Carlo Integration\n",
    "    - example integrating a pathological function\n",
    "    - how accurate is Monte Carlo Integration? \n",
    "    - the Mean Value Method\n",
    "    - why bother with Monte Carlo Integration? "
   ]
  },
  {
   "cell_type": "markdown",
   "metadata": {},
   "source": [
    "## Gaussian Random Numbers\n",
    "\n",
    " One of the most common distributions you will need to draw numbers from is the Gaussian Distribution: \n",
    " \n",
    " $$ p(x) = \\frac{1}{\\sqrt{2 \\pi \\sigma^2}}\\exp{(\\frac{-x^2}{2 \\sigma^2}}) $$\n",
    " \n",
    " Where of course, $\\sigma$ is the width (standard deviation) of the distribution, which in the above case has a zero mean. The division by $\\sqrt{2 \\pi \\sigma^2}$ is necessary so that the total probability integrates to unity over $\\pm \\infty$. \n",
    " \n",
    " Using the transformation method to generate numbers from this distribution is not possible, as it is not possible to do the integral: \n",
    " \n",
    " $$ \\int_{-\\infty}^x \\exp({\\frac{-x^2}{2 \\sigma^2}}) dx $$\n",
    " \n",
    " However it is possible to make use of a co-ordinate transformation to generate two sets of Gaussian distributed random numbers rather efficiently. \n",
    " \n",
    " Consider two independent random numbers drawn from the Gaussian distribution: \n",
    " \n",
    " $ p(x)   = \\frac{1}{\\sqrt{2 \\pi \\sigma^2}} \\exp{(\\frac{-x^2}{2 \\sigma^2})}  $\n",
    " \n",
    " and\n",
    " \n",
    " $p(y) = \\frac{1}{\\sqrt{2 \\pi \\sigma^2}} \\exp{(\\frac{-y^2}{2 \\sigma^2})} $\n",
    " \n",
    " then\n",
    " \n",
    " $ p(x)p(y)dx dy = \\frac{1}{2 \\pi \\sigma^2}\\exp{-(\\frac{x^2+y^2}{2 \\sigma^2})} dx dy $. \n",
    " \n",
    " We can convert this to polar co-ordinates ($x = r\\cos\\phi$; $y=r\\sin\\phi$) using $r^2 = x^2 +y^2$ and $dx dy = r dr d\\phi$, so then\n",
    " \n",
    " $p(r,\\phi) dr d\\phi = \\frac{1}{2 \\pi \\sigma^2} \\exp{(\\frac{-r^2}{2 \\sigma^2})} r dr d\\phi $\n",
    "\n",
    "this can be separated into $p(r)$ and $p(\\phi)$ as follows: \n",
    "\n",
    " $p(r) = \\frac{r}{ \\sigma^2}\\exp{(\\frac{-r^2}{2 \\sigma^2}}) $\n",
    "\n",
    "and \n",
    "\n",
    " $p(\\phi) = 1/2\\pi$\n",
    "\n",
    "(ie. uniform random numbers in $\\phi$). \n",
    "\n",
    "And we can now integrate $p(r)$ in to make use of the transformation method to generate random numbers $r$ from uniform random numbers, $z$. If you do the necessary integral you will find the relationship is $r = \\sqrt{-2\\sigma^2 \\ln(1-z)}$. You can then convert $r$ and $\\phi$ to $x$, $y$ co-ordinates to generate two sets of random Gaussianally distributed numbers. \n",
    "\n",
    "Summary of the method to generate two sets of random numbers distributed as Gaussians:  \n",
    "\n",
    "1. Generate two random numbers, $z$ and $\\phi$. \n",
    "2. Transform $z$ to numbers, $r$ distributed as $p(r)$ above, with $r = \\sqrt{-2\\sigma^2 \\ln(1-z)}$\n",
    "3. Transform to two sets of Gaussian distributed random numbers, $x$ and $y$ with $x = r\\cos\\phi$ and $y = r\\cos \\phi$.  "
   ]
  },
  {
   "cell_type": "markdown",
   "metadata": {},
   "source": [
    "## In Class Exercise - Rutherford Scattering of a Gaussian Beam of Particles\n",
    "\n",
    "![Rutherford Scattering](rutherford-scattering.png \"Rutherford Scattering\")\n",
    "\n",
    "When a positively charged particle passes close to an atom, its path will be deflected (or scatter) by an angle $\\theta$ which obeys the relation: \n",
    "\n",
    "$$\\tan (\\theta/2) = \\frac{Z e^2}{2 \\pi \\epsilon_0 E b} $$\n",
    "\n",
    "where $Z$ is the atomic number, $e$ is the electric charge, $\\epsilon_0$ is the permittivity of free space, $E$ is the kinetic energy of the incident particle, and $b$ is the impact parameter (see diagram). \n",
    "\n",
    "This process is called \"Rutherford Scattering\" after Ernest Rutherford, who was among the first physicists to explore this process. He was famously astonished to find in 1909 that a fraction of incident $\\alpha$ particles on a thin sheet of Gold bounced back, because the time it was not known that atoms contained atomic nuclei. He said this observation \"was about as credible as if you had fired a 15-inch shell at a piece of tissue paper and it had come back and hit you\".\n",
    "\n",
    "We will model a beam of 1 million $\\alpha$ particles with a 2D Gaussian profile incident on a single atom of Gold. We would like to calculate the fraction of these particles which \"bounce back\" (ie. scatter through angles greater than $\\theta = 90^\\circ$. \n",
    "\n",
    "When bounce back happens, therefore $\\tan (\\theta/2) \\gt 1$, so \n",
    "\n",
    "$$ b \\lt \\frac{Z e^2}{2 \\pi \\epsilon_0 E} $$\n",
    "\n",
    "We will write a programme which simulates the incident Gaussian beam and calculates the fraction of particles which bounce back. \n",
    "\n",
    "Please write your own function to calculate Gaussian random numbers using this format: \n",
    "\n",
    "``` python\n",
    "\n",
    "def gaussian():```\n",
    "\n",
    "YOUR ALGORTHIM HERE\n",
    "\n",
    "``` python \n",
    "\n",
    "return x,y```\n",
    "\n",
    "\n",
    "Make use of these parameters for the incident beam, which should be randomly sampled from a 2D Gaussian: \n",
    "\n",
    "1. E = 7.7 MeV\n",
    "2. $\\sigma = a_0/100$ (where $a_0$ is the Bohr radius). \n",
    "\n",
    "\n",
    "Hint: you can make use of the ```astropy.constants``` module to import various constants you need for this problem. \n",
    "\n",
    "Hint: Don't forget that in your Random number generator, both $z(r)$ and $\\phi$ are uniform random numbers from 0 to 1 which can be used to generate $x$ and $y$ as random numbers from a Gaussian distribution. "
   ]
  },
  {
   "cell_type": "code",
   "execution_count": 7,
   "metadata": {
    "collapsed": false
   },
   "outputs": [
    {
     "name": "stdout",
     "output_type": "stream",
     "text": [
      "  Name   = Electron charge\n",
      "  Value  = 1.602176565e-19\n",
      "  Uncertainty  = 3.5e-27\n",
      "  Unit  = C\n",
      "  Reference = CODATA 2010\n"
     ]
    }
   ],
   "source": [
    "from astropy import constants as const\n",
    "print(const.e)"
   ]
  },
  {
   "cell_type": "markdown",
   "metadata": {},
   "source": [
    "To find the available constants use: "
   ]
  },
  {
   "cell_type": "code",
   "execution_count": 11,
   "metadata": {
    "collapsed": true
   },
   "outputs": [],
   "source": [
    "?const\n"
   ]
  },
  {
   "cell_type": "markdown",
   "metadata": {},
   "source": [
    "Have to be careful about combining units. You will get error messages about potential mismatching units, and need to define the units of your programme variables. In the long run (once you get used to python classes) this is a good thing (will make sure your calculations are physical). \n",
    "\n",
    "However, if you are sure you are in the same system with all constants, it may be quicker for short programmes to use:  "
   ]
  },
  {
   "cell_type": "code",
   "execution_count": 9,
   "metadata": {
    "collapsed": false
   },
   "outputs": [
    {
     "name": "stdout",
     "output_type": "stream",
     "text": [
      "299792458.0\n"
     ]
    }
   ],
   "source": [
    "print(const.c.value)"
   ]
  },
  {
   "cell_type": "markdown",
   "metadata": {},
   "source": [
    "A reminder about functions: "
   ]
  },
  {
   "cell_type": "code",
   "execution_count": 10,
   "metadata": {
    "collapsed": false
   },
   "outputs": [
    {
     "name": "stdout",
     "output_type": "stream",
     "text": [
      "This is a programme which says Hello World and returns my favourite numbers\n",
      "Hello World\n",
      "My favourite numbers are:  13 8\n"
     ]
    }
   ],
   "source": [
    "#Function\n",
    "def HelloWorld():\n",
    "    print(\"Hello World\")\n",
    "    x = 13\n",
    "    y = 8\n",
    "    return x, y\n",
    "\n",
    "#Main Programme\n",
    "\n",
    "print(\"This is a programme which says Hello World and returns my favourite numbers\")\n",
    "x,y=HelloWorld()\n",
    "print(\"My favourite numbers are: \",x,y)"
   ]
  },
  {
   "cell_type": "markdown",
   "metadata": {
    "collapsed": true
   },
   "source": [
    "## How Random is Random? "
   ]
  },
  {
   "cell_type": "markdown",
   "metadata": {},
   "source": [
    "Now we have looked at several techniques for drawing random numbers from distributions which are uniform, or non-uniform, let's pause to consider them a bit more.  How do we know that the \"random\" numbers we are getting are random enough?  We already know that they can't ever be considered truly random, but surely there is some way to say with confidence that the numbers we obtain are good enough.  To do that, we can apply a series of statistical tests on a large sample of random numbers to see if they are statistically sound.  \n",
    "\n",
    "A good overview of the problem from which this discussion is drawn is provided in [Chapter 10](http://www.johndcook.com/Beautiful_Testing_ch10.pdf) of the book \"Beautiful Testing\", written by John D. Cook.  He makes the chapter available online for free through his [webpage](http://www.johndcook.com).  \n",
    "\n",
    "The most straightforward statistical tests we can apply are\n",
    "\n",
    "* Mean test\n",
    "* Variance test\n",
    "\n",
    "### Mean test\n",
    "\n",
    "The mean test is as you would expect.  Generate a large sample of random numbers and compute their mean.  \n",
    "\n",
    "$$m = \\frac{1}{n}\\sum_{i=1}^n x_i$$\n",
    "\n",
    "Then compare to the expected mean value for the distribution you are sampling from.  For example, for uniform numbers between 0 and 1, you'd expect a mean of 0.5.\n",
    "\n",
    "### Variance test\n",
    "\n",
    "For the variance test, compute the variance for a large sample of data with\n",
    "\n",
    "$$\\sigma^2 = \\frac{1}{n-1}\\sum_{i=1}^n (x_i - m)^2$$\n",
    "\n",
    "$\\sigma$ is the standard deviation of the mean and for a large data sample should approximate that of the normal distribution, where 68% of all values should fall within one standard deviation, 95% should fall within 2 standard deviations, and so on. You can check your distribution of samples by computing the percentage of random numbers that fall within the appropriate ranges.  \n",
    "\n",
    "### Other Tests\n",
    "\n",
    "Sometimes there isn't a well defined mean or $sigma$ to test your samples against. In these circumstances other tests are available. For example: \n",
    "\n",
    "* Chi-square or \"Bucket\" test\n",
    "* Kolmogorov-Smirnov (KS) Test\n",
    "\n",
    "In the Chi-square test, we calculate the mean deviation from the expected function in bins (identical to calculating how well a model fits experimental data):  \n",
    "\n",
    "$$\\chi^2 = \\sum_{i=1}^k\\frac{(O_i-E_i)^2}{E_i}$$\n",
    "\n",
    "If $\\chi^2$ is too large, the numbers we sampled do not follow the distribution we desire and should not be used.  If $\\chi^2$ is too low, our numbers are not random enough - they are too predictable.  \n",
    "\n",
    " The KS test is also commonly used in comparing experimental samples. It measures the similarlty between two sets of data and determines the probability they are drawn from the same parent distribution. Like in the Chi-squared test, we don't want the match to be too perfect, but the distributions should be not too different either, and determining the range of acceptable values depends on the application. "
   ]
  },
  {
   "cell_type": "markdown",
   "metadata": {
    "collapsed": true
   },
   "source": [
    "## Monte Carlo Integration \n",
    "\n",
    "There is an analytic expression for the fraction of $\\alpha$ particles which are bounced back. Notice that we discovered the impact parameter is a random number drawn from this distribution: \n",
    "\n",
    "$$p(r) = \\frac{r}{\\sqrt{ \\sigma^2}}\\exp{(\\frac{-r^2}{2 \\sigma^2}}) $$\n",
    "\n",
    "So we could calculate the fraction of values of $r<b$ by doing the integral: \n",
    "\n",
    "$$\\frac{1}{\\sqrt{ \\sigma^2}} \\int_0^b \\exp{(\\frac{-r^2}{2 \\sigma^2}}) r dr$$\n",
    "\n",
    "This can be done analytically, but notice that the code you have just written calculates it from a random sampling. \n",
    "\n",
    "Not all functions can be integrated analytically, because they have pathological behaviour. Instead we can calculate such integrals making use of random sampling...\n",
    "\n",
    "For a concrete example consider: \n",
    "\n",
    "$$ I = \\int_0^2 \\sin^2 [\\frac{1}{x(2-x)}] dx. $$\n",
    "\n",
    "Plotting this function: "
   ]
  },
  {
   "cell_type": "code",
   "execution_count": 12,
   "metadata": {
    "collapsed": false
   },
   "outputs": [
    {
     "name": "stderr",
     "output_type": "stream",
     "text": [
      "/Users/Karen/anaconda/envs/py35/lib/python3.5/site-packages/ipykernel/__main__.py:6: RuntimeWarning: divide by zero encountered in true_divide\n",
      "/Users/Karen/anaconda/envs/py35/lib/python3.5/site-packages/ipykernel/__main__.py:6: RuntimeWarning: invalid value encountered in sin\n"
     ]
    },
    {
     "data": {
      "text/plain": [
       "[<matplotlib.lines.Line2D at 0x10c69a518>]"
      ]
     },
     "execution_count": 12,
     "metadata": {},
     "output_type": "execute_result"
    },
    {
     "data": {
      "image/png": "[encoded data removed]",
      "text/plain": [
       "<matplotlib.figure.Figure at 0x10b79ecc0>"
      ]
     },
     "metadata": {},
     "output_type": "display_data"
    }
   ],
   "source": [
    "%matplotlib inline\n",
    "import matplotlib.pyplot as plt\n",
    "import numpy as np\n",
    "\n",
    "x = np.linspace(0,2,1000)\n",
    "y = (np.sin(1/(x*(2-x))))**2\n",
    "\n",
    "plt.plot(x,y)"
   ]
  },
  {
   "cell_type": "markdown",
   "metadata": {},
   "source": [
    "Notice the pathological behaviour at the x-axis values near $x=0$ and $x=2$. \n",
    "\n",
    "The approximate value of the integral can be calculated using a method rather similar to the rejection method for drawing random numbers from arbitrary distributions: \n",
    "\n",
    "1. Call the area of the above plot $A$.\n",
    "2. The probability of a random point in the area $A$ falling under the curve is then $ p = I/A $. \n",
    "3. Generate a large number, $N$ of random numbers uniformly distributed across $A$. \n",
    "4. Count the number which fall under the curve, $k$. \n",
    "5. The probability of being under the curve is approximately equal to $k/N$ (within some numerical error). \n",
    "6. Finally: $ I \\simeq kA/N$. \n",
    "\n",
    "This is often called the \"hit or miss\" method of integration. "
   ]
  },
  {
   "cell_type": "markdown",
   "metadata": {},
   "source": [
    "## In Class Exercise: Monte Carlo Integration\n",
    "\n",
    "Write a programme following the method of Monte Carlo Integration to calculate \n",
    "\n",
    "$$ I = \\int_0^2 \\sin^2 [\\frac{1}{x(2-x)}] dx. $$\n",
    "\n",
    "\n",
    "As you will need to calculate $f(x) = \\sin^2 [\\frac{1}{x(2-x)}]$ many times please write a user defined function for this part of your programme. "
   ]
  },
  {
   "cell_type": "markdown",
   "metadata": {},
   "source": [
    "## How Accurate is \"Hit or Miss\" Monte Carlo Integration? "
   ]
  },
  {
   "cell_type": "markdown",
   "metadata": {},
   "source": [
    "Consider the probability that a point falls below the curve, $p$. The probability it is above the curve is then $1-p$. In a given $N$ particles, the probability that $k$ are below the curve and $(N-k)$ are above it is then: \n",
    "\n",
    "$$ P(k) = ^NP_k ~~ p^k (1-p)^{N-k} $$\n",
    "\n",
    "This is simply the binomial distribution, and the expected standard distribution of the number of particles below the curve is \n",
    "\n",
    "$$\\sigma_k = \\sqrt(Np(1-p)) $$\n",
    "\n",
    "since $I = kA/n$ this carries forward to an error on the integral of: \n",
    "\n",
    "$$\\sigma_I = \\frac{\\sqrt{I(A-I)}}{\\sqrt(N)} $$\n",
    "\n",
    "so the only way to increase the accuracy for a given function is to increase $N$. \n",
    "\n",
    "As a rule of thumb the accuracy is $\\sqrt(N)$ %, ie. for 100 samples, you can expect an accuracy of 10 %. Other methods for calculating integrals are much more accurate for the same  number of samples (you should cover some of these methods later in the unit), and so this method should be used only as a last resort. "
   ]
  },
  {
   "cell_type": "markdown",
   "metadata": {},
   "source": [
    "## In Class Exercise\n",
    "\n",
    "Returning to the programme you just wrote to calculate the integral of $f(x) = \\sin^2 [\\frac{1}{x(2-x)}]$, please now add an estimate of the accuracy of your integration. "
   ]
  },
  {
   "cell_type": "markdown",
   "metadata": {},
   "source": [
    "## The Mean Value Method\n",
    "\n",
    "An alternative Monte Carlo (random) method for integration, is the \"Mean Value Method\". \n",
    "\n",
    "Recall the definition of the mean of a function across the range [a,b], includes it's integral: \n",
    "\n",
    "$$<f> = \\frac{1}{b-a} \\int_a^b f(x) dx = \\frac{I}{b-a} $$\n",
    "\n",
    "So if we can estimate $<f>$ we can estimate $I$. \n",
    "\n",
    "A simple way to estimate $<f>$ is just to calculate $N$ random values drawn from the distribition, and calculate their mean value. Then: \n",
    "\n",
    "$$ I = (b-a)<f> $$\n",
    "\n",
    "The error on this estimate is: \n",
    "\n",
    "$$\\sigma_I = (b-a)\\frac{\\sigma_f}{\\sqrt(N)} $$\n",
    "\n",
    "which like the previous Monte Carlo method scales with $\\sqrt N$, however has a smaller constant of proportionalility. "
   ]
  },
  {
   "cell_type": "markdown",
   "metadata": {},
   "source": [
    "## In Class Exercise\n",
    "\n",
    "Now calculate the integral of $f(x) = \\sin^2 [\\frac{1}{x(2-x)}]$ using the mean value method, and compare the accuracy from 10000 sample to what you obtained previously. "
   ]
  },
  {
   "cell_type": "markdown",
   "metadata": {},
   "source": [
    "## Why Bother with this? \n",
    "\n",
    "If other methods of integration are quicker, why would we bother with these random sampling methods? \n",
    "\n",
    "There are at least two circustances where they are useful: \n",
    "\n",
    "1. When the function is impossible to integrate by other methods. \n",
    "2. For N-dimensional integration. Other methods (see later in the unit) may require millions of samples (e.g. 100 points per axis in 4-D is 100 million points), but the volume can be randomly sampled by a few 10s of thousands of points. One real world example where the dimensionality is high is financial models for the value of stocks and bonds, which may contain many variables, and are required to be done quickly to make purchasing decisions. "
   ]
  },
  {
   "cell_type": "code",
   "execution_count": null,
   "metadata": {
    "collapsed": true
   },
   "outputs": [],
   "source": []
  }
 ],
 "metadata": {
  "anaconda-cloud": {},
  "kernelspec": {
   "display_name": "Python [conda env:py35]",
   "language": "python",
   "name": "conda-env-py35-py"
  },
  "language_info": {
   "codemirror_mode": {
    "name": "ipython",
    "version": 3
   },
   "file_extension": ".py",
   "mimetype": "text/x-python",
   "name": "python",
   "nbconvert_exporter": "python",
   "pygments_lexer": "ipython3",
   "version": "3.5.2"
  }
 },
 "nbformat": 4,
 "nbformat_minor": 1
}
