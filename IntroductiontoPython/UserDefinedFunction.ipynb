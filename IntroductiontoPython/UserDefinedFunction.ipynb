{
 "cells": [
  {
   "cell_type": "markdown",
   "metadata": {},
   "source": [
    "# User Defined Functions\n",
    "\n",
    "User defined functions make for neater and more efficient programming.\n",
    "\n",
    "We have already made use of several library functions in the math, scipy and numpy libraries. "
   ]
  },
  {
   "cell_type": "code",
   "execution_count": 4,
   "metadata": {
    "collapsed": false
   },
   "outputs": [
    {
     "name": "stdout",
     "output_type": "stream",
     "text": [
      "Pi =  3.141592653589793\n"
     ]
    }
   ],
   "source": [
    "import numpy as np\n",
    "import scipy.constants as constants\n",
    "print('Pi = ', constants.pi)"
   ]
  },
  {
   "cell_type": "code",
   "execution_count": 5,
   "metadata": {
    "collapsed": false
   },
   "outputs": [
    {
     "name": "stdout",
     "output_type": "stream",
     "text": [
      "Enter the height of the tower (in metres): 10\n",
      "Enter the time interval (in seconds): 1\n",
      "The height of the ball is 5.096675 meters\n"
     ]
    }
   ],
   "source": [
    "h = float(input(\"Enter the height of the tower (in metres): \"))\n",
    "t = float(input(\"Enter the time interval (in seconds): \"))\n",
    "s = constants.g*t**2/2\n",
    "print(\"The height of the ball is\",h-s,\"meters\")"
   ]
  },
  {
   "cell_type": "markdown",
   "metadata": {},
   "source": [
    "Link to What's in Scipy.constants: https://docs.scipy.org/doc/scipy/reference/constants.html\n",
    "\n",
    "## Library Functions in Maths\n",
    "\n",
    "(and numpy)"
   ]
  },
  {
   "cell_type": "code",
   "execution_count": 3,
   "metadata": {
    "collapsed": false
   },
   "outputs": [
    {
     "name": "stdout",
     "output_type": "stream",
     "text": [
      "2.0\n",
      "2.0\n"
     ]
    }
   ],
   "source": [
    "x = 4**0.5\n",
    "print(x)\n",
    "x = np.sqrt(4)\n",
    "print(x)"
   ]
  },
  {
   "cell_type": "markdown",
   "metadata": {},
   "source": [
    "# User Defined Functions\n",
    "\n",
    "Here we'll practice writing our own functions. \n",
    "\n",
    "Functions start with \n",
    "\n",
    "```python\n",
    "def name(input):\n",
    "```\n",
    "\n",
    "and must end with a statement to return the value calculated\n",
    "\n",
    "```python\n",
    "return x\n",
    "```\n",
    "\n",
    "To run a function your code would look like this: \n",
    "\n",
    "```python\n",
    "import numpy as np\n",
    "\n",
    "def name(input)\n",
    "```\n",
    "\n",
    "> FUNCTION CODE HERE\n",
    "\n",
    "```python\n",
    " return D\n",
    "\n",
    "y=int(input(\"Enter y:\"))\n",
    " \n",
    " D = name(y)\n",
    " \n",
    " print(D)\n",
    "```\n",
    "\n",
    "First - write a function to calculate n factorial. Reminder: \n",
    "\n",
    "$n! = \\pi^n_{k=1} k$\n",
    "\n",
    "~\n",
    "\n",
    "~\n",
    "\n",
    "~\n",
    "\n",
    "~\n",
    "\n",
    "~\n",
    "\n",
    "~\n",
    "\n",
    "~\n",
    "\n",
    "~\n",
    "\n",
    "~\n",
    "\n",
    "~\n",
    "\n",
    "~\n",
    "\n",
    "~\n",
    "\n",
    "~\n",
    "\n",
    "~\n"
   ]
  },
  {
   "cell_type": "code",
   "execution_count": 1,
   "metadata": {
    "collapsed": false
   },
   "outputs": [
    {
     "name": "stdout",
     "output_type": "stream",
     "text": [
      "This programme calculates n!\n",
      "Enter n:10\n",
      "n! =  3628800.0\n"
     ]
    }
   ],
   "source": [
    "def factorial(n):\n",
    "    f = 1.0\n",
    "    for k in range(1,n+1):\n",
    "        f *= k\n",
    "    return f\n",
    "\n",
    "print(\"This programme calculates n!\")\n",
    "n = int(input(\"Enter n:\"))\n",
    "a = factorial(10)\n",
    "print(\"n! = \", a)"
   ]
  },
  {
   "cell_type": "markdown",
   "metadata": {},
   "source": [
    "Finding distance to the origin in cylindrical co-ordinates:"
   ]
  },
  {
   "cell_type": "code",
   "execution_count": 2,
   "metadata": {
    "collapsed": false
   },
   "outputs": [
    {
     "name": "stdout",
     "output_type": "stream",
     "text": [
      "2.5\n"
     ]
    }
   ],
   "source": [
    "from math import sqrt, cos, sin\n",
    "\n",
    "def distance(r,theta,z):\n",
    "    x = r*cos(theta)\n",
    "    y = r*sin(theta)\n",
    "    d = sqrt(x**2+y**2+z**2)\n",
    "    return d\n",
    "\n",
    "D = distance(2.0,0.1,1.5)\n",
    "print(D)"
   ]
  },
  {
   "cell_type": "markdown",
   "metadata": {},
   "source": [
    "# Another Example: Prime Factors and Prime Numbers\n",
    "\n",
    "Reminder: prime factors are the numbers which divide another number exactly. \n",
    "\n",
    "Factors of the integer n can be found by dividing by all integers from 2 up to n and checking to see which remainders are zero. \n",
    "\n",
    "Remainder in python calculated using \n",
    "\n",
    "```python\n",
    " n % k\n",
    " ```"
   ]
  },
  {
   "cell_type": "code",
   "execution_count": 6,
   "metadata": {
    "collapsed": false
   },
   "outputs": [
    {
     "name": "stdout",
     "output_type": "stream",
     "text": [
      "[12, 6, 3]\n"
     ]
    }
   ],
   "source": [
    "def factors(n):\n",
    "    factorlist=[]\n",
    "    k = 2\n",
    "    while k<=n:\n",
    "        while n%k==0:\n",
    "            factorlist.append(n)\n",
    "            n //= k\n",
    "        k += 1\n",
    "    return factorlist\n",
    "\n",
    "list=factors(12)\n",
    "print(list)"
   ]
  },
  {
   "cell_type": "code",
   "execution_count": 7,
   "metadata": {
    "collapsed": false
   },
   "outputs": [
    {
     "name": "stdout",
     "output_type": "stream",
     "text": [
      "[17556, 8778, 4389, 1463, 209, 19]\n"
     ]
    }
   ],
   "source": [
    "print(factors(17556))"
   ]
  },
  {
   "cell_type": "code",
   "execution_count": 8,
   "metadata": {
    "collapsed": false
   },
   "outputs": [
    {
     "name": "stdout",
     "output_type": "stream",
     "text": [
      "[23]\n"
     ]
    }
   ],
   "source": [
    "print(factors(23))"
   ]
  },
  {
   "cell_type": "markdown",
   "metadata": {},
   "source": [
    "The reason these are useful are for things like the below, where you want to make the same calculation many times. This finds all the prime numbers (only divided by 1 and themselves) from 2 to 100. "
   ]
  },
  {
   "cell_type": "code",
   "execution_count": 9,
   "metadata": {
    "collapsed": false
   },
   "outputs": [
    {
     "name": "stdout",
     "output_type": "stream",
     "text": [
      "2\n",
      "3\n",
      "5\n",
      "7\n",
      "11\n",
      "13\n",
      "17\n",
      "19\n",
      "23\n",
      "29\n",
      "31\n",
      "37\n",
      "41\n",
      "43\n",
      "47\n",
      "53\n",
      "59\n",
      "61\n",
      "67\n",
      "71\n",
      "73\n",
      "79\n",
      "83\n",
      "89\n",
      "97\n"
     ]
    }
   ],
   "source": [
    "for n in range(2,100):\n",
    "    if len(factors(n))==1:\n",
    "        print(n)"
   ]
  },
  {
   "cell_type": "markdown",
   "metadata": {
    "collapsed": true
   },
   "source": [
    "# More Extended Example\n",
    "\n",
    "Exercise 2.11 in Newman - binomial coefficients. "
   ]
  },
  {
   "cell_type": "code",
   "execution_count": null,
   "metadata": {
    "collapsed": true
   },
   "outputs": [],
   "source": []
  }
 ],
 "metadata": {
  "anaconda-cloud": {},
  "kernelspec": {
   "display_name": "Python 3",
   "language": "python",
   "name": "python3"
  },
  "language_info": {
   "codemirror_mode": {
    "name": "ipython",
    "version": 3
   },
   "file_extension": ".py",
   "mimetype": "text/x-python",
   "name": "python",
   "nbconvert_exporter": "python",
   "pygments_lexer": "ipython3",
   "version": "3.5.3"
  }
 },
 "nbformat": 4,
 "nbformat_minor": 0
}
