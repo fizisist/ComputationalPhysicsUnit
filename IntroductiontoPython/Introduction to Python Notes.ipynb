{
 "cells": [
  {
   "cell_type": "markdown",
   "metadata": {},
   "source": [
    "# Python Notes\n",
    "\n",
    "My notes from working through Chapter 2 of Newman's Computational Physics"
   ]
  },
  {
   "cell_type": "code",
   "execution_count": 1,
   "metadata": {
    "collapsed": false
   },
   "outputs": [
    {
     "name": "stdout",
     "output_type": "stream",
     "text": [
      "Hello World\n"
     ]
    }
   ],
   "source": [
    "print(\"Hello World\")"
   ]
  },
  {
   "cell_type": "markdown",
   "metadata": {},
   "source": [
    "## Variable Types"
   ]
  },
  {
   "cell_type": "code",
   "execution_count": 2,
   "metadata": {
    "collapsed": false
   },
   "outputs": [
    {
     "name": "stdout",
     "output_type": "stream",
     "text": [
      "1\n"
     ]
    }
   ],
   "source": [
    "x=1\n",
    "print(x)"
   ]
  },
  {
   "cell_type": "markdown",
   "metadata": {},
   "source": [
    "You can make a float either by just assiging the variable, or by specifying with the x=float() command. "
   ]
  },
  {
   "cell_type": "code",
   "execution_count": 3,
   "metadata": {
    "collapsed": false
   },
   "outputs": [
    {
     "name": "stdout",
     "output_type": "stream",
     "text": [
      "1.5\n",
      "1.0\n"
     ]
    }
   ],
   "source": [
    "x=1.5\n",
    "print(x)\n",
    "x=float(1)\n",
    "print(x)"
   ]
  },
  {
   "cell_type": "code",
   "execution_count": 4,
   "metadata": {
    "collapsed": false
   },
   "outputs": [
    {
     "name": "stdout",
     "output_type": "stream",
     "text": [
      "(1.5+0j)\n"
     ]
    }
   ],
   "source": [
    "x=complex(1.5)\n",
    "print(x)"
   ]
  },
  {
   "cell_type": "code",
   "execution_count": 5,
   "metadata": {
    "collapsed": false
   },
   "outputs": [
    {
     "name": "stdout",
     "output_type": "stream",
     "text": [
      "This is a string\n"
     ]
    }
   ],
   "source": [
    "x=\"This is a string\"\n",
    "print(x)"
   ]
  },
  {
   "cell_type": "markdown",
   "metadata": {},
   "source": [
    "## Tips for Formatting Output"
   ]
  },
  {
   "cell_type": "code",
   "execution_count": 6,
   "metadata": {
    "collapsed": false
   },
   "outputs": [
    {
     "name": "stdout",
     "output_type": "stream",
     "text": [
      "The value of x is 1 and the value of y is 2\n"
     ]
    }
   ],
   "source": [
    "x=1\n",
    "y=2\n",
    "print(\"The value of x is\",x,\"and the value of y is\",y)"
   ]
  },
  {
   "cell_type": "code",
   "execution_count": 7,
   "metadata": {
    "collapsed": false
   },
   "outputs": [
    {
     "name": "stdout",
     "output_type": "stream",
     "text": [
      "The value of x is 1.0 and the value of y is 2.0\n"
     ]
    }
   ],
   "source": [
    "x=1.0\n",
    "y=2.0\n",
    "print(\"The value of x is\",x,\"and the value of y is\",y)\n"
   ]
  },
  {
   "cell_type": "markdown",
   "metadata": {},
   "source": [
    "## Inputting stuff"
   ]
  },
  {
   "cell_type": "code",
   "execution_count": 1,
   "metadata": {
    "collapsed": false
   },
   "outputs": [
    {
     "name": "stdout",
     "output_type": "stream",
     "text": [
      "Enter the value of y: 10\n",
      "10\n"
     ]
    }
   ],
   "source": [
    "y = input(\"Enter the value of y: \")\n",
    "print(y)"
   ]
  },
  {
   "cell_type": "code",
   "execution_count": 2,
   "metadata": {
    "collapsed": false
   },
   "outputs": [
    {
     "name": "stdout",
     "output_type": "stream",
     "text": [
      "Enter the value of x: Hello world\n",
      "Hello world\n"
     ]
    }
   ],
   "source": [
    "x = input(\"Enter the value of x: \")\n",
    "print(x)"
   ]
  },
  {
   "cell_type": "markdown",
   "metadata": {},
   "source": [
    "* Specify the type of the input variable"
   ]
  },
  {
   "cell_type": "code",
   "execution_count": 3,
   "metadata": {
    "collapsed": false
   },
   "outputs": [
    {
     "name": "stdout",
     "output_type": "stream",
     "text": [
      "Enter the value of x: HEllo\n"
     ]
    },
    {
     "ename": "ValueError",
     "evalue": "could not convert string to float: 'HEllo'",
     "output_type": "error",
     "traceback": [
      "\u001b[1;31m\u001b[0m",
      "\u001b[1;31mValueError\u001b[0mTraceback (most recent call last)",
      "\u001b[1;32m<ipython-input-3-8cfe287bccb6>\u001b[0m in \u001b[0;36m<module>\u001b[1;34m()\u001b[0m\n\u001b[1;32m----> 1\u001b[1;33m \u001b[0mx\u001b[0m \u001b[1;33m=\u001b[0m \u001b[0mfloat\u001b[0m\u001b[1;33m(\u001b[0m\u001b[0minput\u001b[0m\u001b[1;33m(\u001b[0m\u001b[1;34m\"Enter the value of x: \"\u001b[0m\u001b[1;33m)\u001b[0m\u001b[1;33m)\u001b[0m\u001b[1;33m\u001b[0m\u001b[0m\n\u001b[0m\u001b[0;32m      2\u001b[0m \u001b[0mprint\u001b[0m\u001b[1;33m(\u001b[0m\u001b[1;34m\"The value of x is\"\u001b[0m\u001b[1;33m,\u001b[0m\u001b[0mx\u001b[0m\u001b[1;33m)\u001b[0m\u001b[1;33m\u001b[0m\u001b[0m\n",
      "\u001b[1;31mValueError\u001b[0m: could not convert string to float: 'HEllo'"
     ]
    }
   ],
   "source": [
    "x = float(input(\"Enter the value of x: \"))\n",
    "print(\"The value of x is\",x)"
   ]
  },
  {
   "cell_type": "markdown",
   "metadata": {},
   "source": [
    "## Basic Maths"
   ]
  },
  {
   "cell_type": "code",
   "execution_count": 4,
   "metadata": {
    "collapsed": false
   },
   "outputs": [
    {
     "name": "stdout",
     "output_type": "stream",
     "text": [
      "4\n"
     ]
    }
   ],
   "source": [
    "a=2\n",
    "b=2\n",
    "x=a+b\n",
    "print(x)"
   ]
  },
  {
   "cell_type": "code",
   "execution_count": 5,
   "metadata": {
    "collapsed": false
   },
   "outputs": [
    {
     "name": "stdout",
     "output_type": "stream",
     "text": [
      "6\n"
     ]
    }
   ],
   "source": [
    "x=a+2*b\n",
    "print(x)"
   ]
  },
  {
   "cell_type": "code",
   "execution_count": 6,
   "metadata": {
    "collapsed": false
   },
   "outputs": [
    {
     "name": "stdout",
     "output_type": "stream",
     "text": [
      "4.0\n",
      "4.0\n",
      "5.048142857142857\n"
     ]
    }
   ],
   "source": [
    "c=1\n",
    "x = a + b/c\n",
    "print(x)\n",
    "x = (a + b)/c\n",
    "print(x)\n",
    "x = a + 2*b - 0.5*(1.618**c + 2/7)\n",
    "print(x)"
   ]
  },
  {
   "cell_type": "markdown",
   "metadata": {},
   "source": [
    "## Python Modifiers"
   ]
  },
  {
   "cell_type": "code",
   "execution_count": 7,
   "metadata": {
    "collapsed": false
   },
   "outputs": [
    {
     "name": "stdout",
     "output_type": "stream",
     "text": [
      "3.5\n"
     ]
    }
   ],
   "source": [
    "x,y = 1,2.5\n",
    "print(x+y)"
   ]
  },
  {
   "cell_type": "code",
   "execution_count": 8,
   "metadata": {
    "collapsed": false
   },
   "outputs": [
    {
     "name": "stdout",
     "output_type": "stream",
     "text": [
      "2\n"
     ]
    }
   ],
   "source": [
    "x +=1\n",
    "print(x)"
   ]
  },
  {
   "cell_type": "code",
   "execution_count": 9,
   "metadata": {
    "collapsed": false
   },
   "outputs": [
    {
     "name": "stdout",
     "output_type": "stream",
     "text": [
      "3\n"
     ]
    }
   ],
   "source": [
    "x +=1\n",
    "print(x)"
   ]
  },
  {
   "cell_type": "code",
   "execution_count": null,
   "metadata": {
    "collapsed": true
   },
   "outputs": [],
   "source": [
    "x,y=y,x\n",
    "print(x,y)"
   ]
  },
  {
   "cell_type": "markdown",
   "metadata": {},
   "source": [
    "## Dropping a Ball from a Tower"
   ]
  },
  {
   "cell_type": "code",
   "execution_count": 6,
   "metadata": {
    "collapsed": false,
    "scrolled": true
   },
   "outputs": [
    {
     "name": "stdout",
     "output_type": "stream",
     "text": [
      "Enter the height of the tower: 10\n",
      "The ball will hit the ground after 1.4278431229270645 seconds\n"
     ]
    }
   ],
   "source": [
    "h = float(input(\"Enter the height of the tower: \"))\n",
    "g=9.81\n",
    "t=(2.0*h/g)**0.5\n",
    "print(\"The ball will hit the ground after\",t,\"seconds\")"
   ]
  },
  {
   "cell_type": "markdown",
   "metadata": {},
   "source": [
    "## Example of Using Math Functions"
   ]
  },
  {
   "cell_type": "code",
   "execution_count": 5,
   "metadata": {
    "collapsed": false
   },
   "outputs": [
    {
     "name": "stdout",
     "output_type": "stream",
     "text": [
      "This program will convert from r,theta to x,y co-ordinates\n",
      "Enter r: 8\n",
      "Enter theta in degrees: 10\n",
      "x = 7.878462024097664  y = 1.3891854213354426\n"
     ]
    }
   ],
   "source": [
    "from math import sin,cos,pi\n",
    "\n",
    "print(\"This program will convert from r,theta to x,y co-ordinates\")\n",
    "r = float(input(\"Enter r: \"))\n",
    "d = float(input(\"Enter theta in degrees: \"))\n",
    "\n",
    "theta = d*pi/180\n",
    "x = r*cos(theta)\n",
    "y = r*sin(theta)\n",
    "print(\"x =\",x,\" y =\",y)\n",
    "\n"
   ]
  },
  {
   "cell_type": "markdown",
   "metadata": {},
   "source": [
    "## Examples of If and While Statements"
   ]
  },
  {
   "cell_type": "code",
   "execution_count": 2,
   "metadata": {
    "collapsed": false
   },
   "outputs": [
    {
     "name": "stdout",
     "output_type": "stream",
     "text": [
      "Enter a whole number no greater than ten: 11\n",
      "This is greater than ten.  Please try again.\n",
      "Enter a whole number no greater than ten: 7\n",
      "Your number is 7\n"
     ]
    }
   ],
   "source": [
    "x = int(input(\"Enter a whole number no greater than ten: \"))\n",
    "while x>10:\n",
    "            print(\"This is greater than ten.  Please try again.\")\n",
    "            x = int(input(\"Enter a whole number no greater than ten: \"))\n",
    "print(\"Your number is\",x)"
   ]
  },
  {
   "cell_type": "code",
   "execution_count": 3,
   "metadata": {
    "collapsed": false
   },
   "outputs": [
    {
     "name": "stdout",
     "output_type": "stream",
     "text": [
      "Enter a whole number no greater than ten: 14\n",
      "You entered a number greater than ten.\n",
      "Let me fix that for you.\n",
      "Your number is 10\n"
     ]
    }
   ],
   "source": [
    "x = int(input(\"Enter a whole number no greater than ten: \"))\n",
    "if x>10:\n",
    "       print(\"You entered a number greater than ten.\")\n",
    "       print(\"Let me fix that for you.\")\n",
    "       x = 10\n",
    "print(\"Your number is\",x)"
   ]
  },
  {
   "cell_type": "code",
   "execution_count": 11,
   "metadata": {
    "collapsed": false
   },
   "outputs": [
    {
     "name": "stdout",
     "output_type": "stream",
     "text": [
      "Enter an Integer: 8\n",
      "even\n"
     ]
    }
   ],
   "source": [
    "n = int(input(\"Enter an Integer: \"))\n",
    "if n%2==0: \n",
    "        print(\"even\")\n",
    "else: \n",
    "        print(\"odd\")"
   ]
  },
  {
   "cell_type": "markdown",
   "metadata": {},
   "source": [
    "Now check two intergers"
   ]
  },
  {
   "cell_type": "code",
   "execution_count": 12,
   "metadata": {
    "collapsed": false
   },
   "outputs": [
    {
     "name": "stdout",
     "output_type": "stream",
     "text": [
      "Enter two integers, one even, one odd.\n",
      "Enter the first integer: 8\n",
      "Enter the second integer: 7\n",
      "The numbers you chose are 8 and 7\n"
     ]
    }
   ],
   "source": [
    "print(\"Enter two integers, one even, one odd.\")\n",
    "m=int(input(\"Enter the first integer: \"))\n",
    "n=int(input(\"Enter the second integer: \"))\n",
    "while (m+n)%2==0:\n",
    "        print(\"One must be even the other odd.\")\n",
    "        m=int(input(\"Enter the first integer: \"))\n",
    "        n=int(input(\"Enter the second integer: \"))\n",
    "print(\"The numbers you chose are\", m, \"and\", n)       "
   ]
  },
  {
   "cell_type": "markdown",
   "metadata": {},
   "source": [
    "# Example 2.4: The Fibonacci Sequence\n",
    "\n",
    "The sequence of integers in which each is the sum of the previous two. E.g. 1 1 2 3 5 8 etc.\n",
    "The sequence up to the value of 1000 would take ages to calculate by hand, but it's quick in code"
   ]
  },
  {
   "cell_type": "code",
   "execution_count": 13,
   "metadata": {
    "collapsed": false
   },
   "outputs": [
    {
     "name": "stdout",
     "output_type": "stream",
     "text": [
      "1\n",
      "2\n",
      "3\n",
      "5\n",
      "8\n",
      "13\n",
      "21\n",
      "34\n",
      "55\n",
      "89\n",
      "144\n",
      "233\n",
      "377\n",
      "610\n",
      "987\n"
     ]
    }
   ],
   "source": [
    "f1 = 1\n",
    "f2 = 2\n",
    "next = f1 + f2\n",
    "while f1<=1000:\n",
    "    print(f1)\n",
    "    f1=f2\n",
    "    f2=next\n",
    "    next=f1+f2"
   ]
  },
  {
   "cell_type": "code",
   "execution_count": 14,
   "metadata": {
    "collapsed": false
   },
   "outputs": [
    {
     "name": "stdout",
     "output_type": "stream",
     "text": [
      "1\n",
      "1\n",
      "2\n",
      "3\n",
      "5\n",
      "8\n",
      "13\n",
      "21\n",
      "34\n",
      "55\n",
      "89\n",
      "144\n",
      "233\n",
      "377\n",
      "610\n",
      "987\n"
     ]
    }
   ],
   "source": [
    "f1,f2 = 1,1\n",
    "while f1 <= 1000: \n",
    "    print(f1)\n",
    "    f1,f2 = f2,f1+f2"
   ]
  },
  {
   "cell_type": "markdown",
   "metadata": {},
   "source": [
    "# Lists and Arrays\n",
    "\n",
    "Get used to starting counting from zero!\n",
    "\n",
    "The most basic containier in python is the list - a set of numbers associated with each other. \n",
    "\n",
    "Example 1: A 3 component vector as a list"
   ]
  },
  {
   "cell_type": "code",
   "execution_count": 16,
   "metadata": {
    "collapsed": false
   },
   "outputs": [
    {
     "name": "stdout",
     "output_type": "stream",
     "text": [
      "2.8442925306655784\n"
     ]
    }
   ],
   "source": [
    "from math import sqrt\n",
    "r = [1.0, 1.5, -2.2]\n",
    "length = sqrt(r[0]**2 + r[1]**2 + r[2]**2)\n",
    "print(length)"
   ]
  },
  {
   "cell_type": "code",
   "execution_count": 17,
   "metadata": {
    "collapsed": false
   },
   "outputs": [
    {
     "name": "stdout",
     "output_type": "stream",
     "text": [
      "0.2999999999999998\n"
     ]
    }
   ],
   "source": [
    "total=sum(r)\n",
    "print(total)"
   ]
  },
  {
   "cell_type": "code",
   "execution_count": 18,
   "metadata": {
    "collapsed": false
   },
   "outputs": [
    {
     "name": "stdout",
     "output_type": "stream",
     "text": [
      "0.09999999999999994\n"
     ]
    }
   ],
   "source": [
    "mean=sum(r)/len(r)\n",
    "print(mean)"
   ]
  },
  {
   "cell_type": "markdown",
   "metadata": {},
   "source": [
    "## Applying functions to lists\n",
    "\n",
    "Make use of the meta function \"map\" which allowes a function to be applied to all elements of a list at once.\n",
    "\n",
    "The below may seems a bit strange, but it's done to save memory - the map(log,r) does not save, until you put it into a list."
   ]
  },
  {
   "cell_type": "code",
   "execution_count": 22,
   "metadata": {
    "collapsed": false
   },
   "outputs": [
    {
     "name": "stdout",
     "output_type": "stream",
     "text": [
      "[0.0, 0.4054651081081644, 0.7884573603642703]\n"
     ]
    }
   ],
   "source": [
    "from math import log\n",
    "r=[1.0,1.5,2.2]\n",
    "logr = list(map(log,r))\n",
    "print(logr)"
   ]
  },
  {
   "cell_type": "markdown",
   "metadata": {},
   "source": [
    "## Append\n",
    "\n",
    "Append is a really useful function with a list - allows values to be added to the list, which is something you'll do all the time in physics coding."
   ]
  },
  {
   "cell_type": "code",
   "execution_count": 23,
   "metadata": {
    "collapsed": false
   },
   "outputs": [
    {
     "name": "stdout",
     "output_type": "stream",
     "text": [
      "[1.0, 1.5, 2.2, 6.1]\n"
     ]
    }
   ],
   "source": [
    "r.append(6.1)\n",
    "print(r)"
   ]
  },
  {
   "cell_type": "markdown",
   "metadata": {},
   "source": [
    "To make an empty list (must make an empty list before adding elements to it."
   ]
  },
  {
   "cell_type": "code",
   "execution_count": 8,
   "metadata": {
    "collapsed": false
   },
   "outputs": [
    {
     "name": "stdout",
     "output_type": "stream",
     "text": [
      "[1.0, 1.5, -2.2]\n"
     ]
    }
   ],
   "source": [
    "r=[]\n",
    "r.append(1.0)\n",
    "r.append(1.5)\n",
    "r.append(-2.2)\n",
    "print(r)"
   ]
  },
  {
   "cell_type": "markdown",
   "metadata": {},
   "source": [
    "To remove a value from the end of a list: "
   ]
  },
  {
   "cell_type": "code",
   "execution_count": 9,
   "metadata": {
    "collapsed": false
   },
   "outputs": [
    {
     "name": "stdout",
     "output_type": "stream",
     "text": [
      "[1.0, 1.5]\n"
     ]
    }
   ],
   "source": [
    "r.pop()\n",
    "print(r)"
   ]
  },
  {
   "cell_type": "markdown",
   "metadata": {},
   "source": [
    "# Arrays\n",
    "\n",
    "* Lists can be added to with append, arrays have fixed lengths. \n",
    "* Lists can have mixed types, arrays are all the same type (good for debugging). \n",
    "* Arrays can be 2D (e.g. images). \n",
    "* Arrays behave like vectors or matrices (not true with lists). \n"
   ]
  },
  {
   "cell_type": "code",
   "execution_count": 25,
   "metadata": {
    "collapsed": false
   },
   "outputs": [
    {
     "name": "stdout",
     "output_type": "stream",
     "text": [
      "[ 0.  0.  0.  0.]\n"
     ]
    }
   ],
   "source": [
    "from numpy import zeros\n",
    "a = zeros(4,float)\n",
    "print(a)"
   ]
  },
  {
   "cell_type": "code",
   "execution_count": 26,
   "metadata": {
    "collapsed": false
   },
   "outputs": [
    {
     "name": "stdout",
     "output_type": "stream",
     "text": [
      "[[ 0.  0.  0.  0.]\n",
      " [ 0.  0.  0.  0.]\n",
      " [ 0.  0.  0.  0.]]\n"
     ]
    }
   ],
   "source": [
    "a=zeros([3,4],float)\n",
    "print(a)"
   ]
  },
  {
   "cell_type": "code",
   "execution_count": 27,
   "metadata": {
    "collapsed": false
   },
   "outputs": [
    {
     "name": "stdout",
     "output_type": "stream",
     "text": [
      "[ 0.  0.  0.  0.]\n"
     ]
    }
   ],
   "source": [
    "from numpy import empty\n",
    "a=empty(4,float)\n",
    "print(a)"
   ]
  },
  {
   "cell_type": "code",
   "execution_count": 28,
   "metadata": {
    "collapsed": false
   },
   "outputs": [
    {
     "name": "stdout",
     "output_type": "stream",
     "text": [
      "[[ 0  1]\n",
      " [-1  0]]\n"
     ]
    }
   ],
   "source": [
    "from numpy import zeros\n",
    "a=zeros([2,2],int)\n",
    "a[0,1]=1\n",
    "a[1,0]=-1\n",
    "print(a)"
   ]
  },
  {
   "cell_type": "markdown",
   "metadata": {},
   "source": [
    "Making an array with arange:"
   ]
  },
  {
   "cell_type": "code",
   "execution_count": 14,
   "metadata": {
    "collapsed": false
   },
   "outputs": [
    {
     "name": "stdout",
     "output_type": "stream",
     "text": [
      "[ 1  2  3  4  5  6  7  8  9 10]\n"
     ]
    }
   ],
   "source": [
    "from numpy import arange\n",
    "x=arange(1,11,1)\n",
    "print(x)"
   ]
  },
  {
   "cell_type": "code",
   "execution_count": 15,
   "metadata": {
    "collapsed": false
   },
   "outputs": [
    {
     "name": "stdout",
     "output_type": "stream",
     "text": [
      "[ 1.  3.  5.  7.  9.]\n"
     ]
    }
   ],
   "source": [
    "x=arange(1.0,11.0,2.0)\n",
    "print(x)"
   ]
  },
  {
   "cell_type": "markdown",
   "metadata": {},
   "source": [
    "Now linspace - which is similar, but not identical"
   ]
  },
  {
   "cell_type": "code",
   "execution_count": 17,
   "metadata": {
    "collapsed": false
   },
   "outputs": [
    {
     "name": "stdout",
     "output_type": "stream",
     "text": [
      "[   1.   12.   23.   34.   45.   56.   67.   78.   89.  100.]\n"
     ]
    }
   ],
   "source": [
    "from numpy import linspace\n",
    "x=linspace(1,100.0,10)\n",
    "print(x)"
   ]
  },
  {
   "cell_type": "markdown",
   "metadata": {},
   "source": [
    "# Reading from a File\n",
    "\n",
    "(Something you will do all the time in physics)"
   ]
  },
  {
   "cell_type": "code",
   "execution_count": 10,
   "metadata": {
    "collapsed": false
   },
   "outputs": [
    {
     "name": "stdout",
     "output_type": "stream",
     "text": [
      "[ 1.   1.5 -2.2  2.6]\n"
     ]
    }
   ],
   "source": [
    "from numpy import loadtxt\n",
    "a = loadtxt(\"values.txt\",float)\n",
    "print(a)"
   ]
  },
  {
   "cell_type": "markdown",
   "metadata": {},
   "source": [
    "Arithmetic with arrays"
   ]
  },
  {
   "cell_type": "code",
   "execution_count": 32,
   "metadata": {
    "collapsed": false
   },
   "outputs": [
    {
     "name": "stdout",
     "output_type": "stream",
     "text": [
      "[2 3 4 5]\n"
     ]
    }
   ],
   "source": [
    "from numpy import array\n",
    "a = array([1,2,3,4],int)\n",
    "print(a+1)"
   ]
  },
  {
   "cell_type": "code",
   "execution_count": 33,
   "metadata": {
    "collapsed": false
   },
   "outputs": [
    {
     "name": "stdout",
     "output_type": "stream",
     "text": [
      "[ 2  8 18 32]\n"
     ]
    }
   ],
   "source": [
    "a = array([1,2,3,4],int)\n",
    "b = array([2,4,6,8],int)\n",
    "print(a*b)"
   ]
  },
  {
   "cell_type": "markdown",
   "metadata": {},
   "source": [
    "For dot products need to use special function"
   ]
  },
  {
   "cell_type": "code",
   "execution_count": 35,
   "metadata": {
    "collapsed": false
   },
   "outputs": [
    {
     "name": "stdout",
     "output_type": "stream",
     "text": [
      "60\n"
     ]
    }
   ],
   "source": [
    "from numpy import array,dot\n",
    "print(dot(a,b))"
   ]
  },
  {
   "cell_type": "markdown",
   "metadata": {},
   "source": [
    "Finding the size of an array"
   ]
  },
  {
   "cell_type": "code",
   "execution_count": 37,
   "metadata": {
    "collapsed": false
   },
   "outputs": [
    {
     "name": "stdout",
     "output_type": "stream",
     "text": [
      "6\n",
      "(2, 3)\n"
     ]
    }
   ],
   "source": [
    "a = array([[1,2,3],[4,5,6]],int)\n",
    "print(a.size)\n",
    "print(a.shape)"
   ]
  },
  {
   "cell_type": "markdown",
   "metadata": {},
   "source": [
    "# Slicing\n",
    "\n",
    "If r is a list, then r[m:n] is a subset of the list starting with element m, and going up to but not including element n. "
   ]
  },
  {
   "cell_type": "code",
   "execution_count": 39,
   "metadata": {
    "collapsed": false
   },
   "outputs": [
    {
     "name": "stdout",
     "output_type": "stream",
     "text": [
      "[5, 7, 9]\n"
     ]
    }
   ],
   "source": [
    "r=[1,3,5,7,9,11,13,15]\n",
    "s=r[2:5]\n",
    "print(s)"
   ]
  },
  {
   "cell_type": "markdown",
   "metadata": {},
   "source": [
    "# For Loops"
   ]
  },
  {
   "cell_type": "code",
   "execution_count": 40,
   "metadata": {
    "collapsed": false
   },
   "outputs": [
    {
     "name": "stdout",
     "output_type": "stream",
     "text": [
      "1\n",
      "2\n",
      "3\n",
      "6\n",
      "5\n",
      "10\n",
      "Finished\n"
     ]
    }
   ],
   "source": [
    "r=[1,3,5]\n",
    "for n in r: \n",
    "    print(n)\n",
    "    print(2*n)\n",
    "print(\"Finished\")"
   ]
  },
  {
   "cell_type": "code",
   "execution_count": 41,
   "metadata": {
    "collapsed": false
   },
   "outputs": [
    {
     "name": "stdout",
     "output_type": "stream",
     "text": [
      "Hello again\n",
      "Hello again\n",
      "Hello again\n",
      "Hello again\n",
      "Hello again\n"
     ]
    }
   ],
   "source": [
    "r=range(5)\n",
    "for n in r:\n",
    "    print(\"Hello again\")"
   ]
  },
  {
   "cell_type": "code",
   "execution_count": 44,
   "metadata": {
    "collapsed": false
   },
   "outputs": [
    {
     "name": "stdout",
     "output_type": "stream",
     "text": [
      "0\n",
      "1\n",
      "4\n",
      "9\n",
      "16\n"
     ]
    }
   ],
   "source": [
    "for n in range(5):\n",
    "    print(n**2)"
   ]
  },
  {
   "cell_type": "markdown",
   "metadata": {},
   "source": [
    "Variants of range:"
   ]
  },
  {
   "cell_type": "code",
   "execution_count": 45,
   "metadata": {
    "collapsed": false
   },
   "outputs": [
    {
     "name": "stdout",
     "output_type": "stream",
     "text": [
      "0\n",
      "1\n",
      "2\n",
      "3\n",
      "4\n"
     ]
    }
   ],
   "source": [
    "for n in range(5):\n",
    "    print(n)"
   ]
  },
  {
   "cell_type": "code",
   "execution_count": 47,
   "metadata": {
    "collapsed": false
   },
   "outputs": [
    {
     "name": "stdout",
     "output_type": "stream",
     "text": [
      "2\n",
      "3\n",
      "4\n",
      "5\n",
      "6\n",
      "7\n"
     ]
    }
   ],
   "source": [
    "for n in range(2,8):\n",
    "    print(n)"
   ]
  },
  {
   "cell_type": "code",
   "execution_count": 48,
   "metadata": {
    "collapsed": false
   },
   "outputs": [
    {
     "name": "stdout",
     "output_type": "stream",
     "text": [
      "2\n",
      "5\n",
      "8\n",
      "11\n",
      "14\n",
      "17\n"
     ]
    }
   ],
   "source": [
    "for n in range(2,20,3):\n",
    "    print(n)"
   ]
  },
  {
   "cell_type": "code",
   "execution_count": 50,
   "metadata": {
    "collapsed": false
   },
   "outputs": [
    {
     "name": "stdout",
     "output_type": "stream",
     "text": [
      "20\n",
      "17\n",
      "14\n",
      "11\n",
      "8\n",
      "5\n"
     ]
    }
   ],
   "source": [
    "for n in range(20,2,-3):\n",
    "    print(n)"
   ]
  },
  {
   "cell_type": "markdown",
   "metadata": {},
   "source": [
    "Range must be integers (so the below won't work)"
   ]
  },
  {
   "cell_type": "code",
   "execution_count": 11,
   "metadata": {
    "collapsed": false
   },
   "outputs": [
    {
     "ename": "TypeError",
     "evalue": "'float' object cannot be interpreted as an integer",
     "output_type": "error",
     "traceback": [
      "\u001b[0;31m---------------------------------------------------------------------------\u001b[0m",
      "\u001b[0;31mTypeError\u001b[0m                                 Traceback (most recent call last)",
      "\u001b[0;32m<ipython-input-11-865f03022812>\u001b[0m in \u001b[0;36m<module>\u001b[0;34m()\u001b[0m\n\u001b[1;32m      1\u001b[0m \u001b[0mp\u001b[0m\u001b[0;34m=\u001b[0m\u001b[0;36m10\u001b[0m\u001b[0;34m\u001b[0m\u001b[0m\n\u001b[1;32m      2\u001b[0m \u001b[0mq\u001b[0m\u001b[0;34m=\u001b[0m\u001b[0;36m2\u001b[0m\u001b[0;34m\u001b[0m\u001b[0m\n\u001b[0;32m----> 3\u001b[0;31m \u001b[0;32mfor\u001b[0m \u001b[0mn\u001b[0m \u001b[0;32min\u001b[0m \u001b[0mrange\u001b[0m\u001b[0;34m(\u001b[0m\u001b[0mp\u001b[0m\u001b[0;34m/\u001b[0m\u001b[0mq\u001b[0m\u001b[0;34m)\u001b[0m\u001b[0;34m:\u001b[0m\u001b[0;34m\u001b[0m\u001b[0m\n\u001b[0m\u001b[1;32m      4\u001b[0m     \u001b[0mprint\u001b[0m\u001b[0;34m(\u001b[0m\u001b[0mn\u001b[0m\u001b[0;34m)\u001b[0m\u001b[0;34m\u001b[0m\u001b[0m\n",
      "\u001b[0;31mTypeError\u001b[0m: 'float' object cannot be interpreted as an integer"
     ]
    }
   ],
   "source": [
    "p=10\n",
    "q=2\n",
    "for n in range(p/q):\n",
    "    print(n)"
   ]
  },
  {
   "cell_type": "markdown",
   "metadata": {},
   "source": [
    "Make use of integer division"
   ]
  },
  {
   "cell_type": "code",
   "execution_count": 12,
   "metadata": {
    "collapsed": false
   },
   "outputs": [
    {
     "name": "stdout",
     "output_type": "stream",
     "text": [
      "0\n",
      "1\n",
      "2\n",
      "3\n",
      "4\n"
     ]
    }
   ],
   "source": [
    "for n in range (p//q):\n",
    "    print(n)"
   ]
  },
  {
   "cell_type": "markdown",
   "metadata": {},
   "source": [
    "# Example: The Emission Lines of Hydrogen\n",
    "\n",
    "\n",
    "## Please work through this example to check you understand lists and arrays.\n",
    "\n",
    "\n",
    "The wavelengths of emission lines in the spectrum of hydrogen are given by the Rydberg Formula: \n",
    "\n",
    "$\\frac{1}{\\lambda} = R ( \\frac{1}{m^2} - \\frac{1}{n^2} )$\n",
    "\n",
    "were $R$ is the Rydberg constant, $R = 1.097 \\times 10^{-2}$, and $m$ and $n$ are the energy levels of the transition. \n",
    "\n",
    "We can write a programme to calculate all the emission lines very easilly. \n",
    "\n",
    "First do this using for loops, then using lists and \"for\" commands.\n",
    "\n",
    "Format the output to have 3 decimal places.\n",
    "\n",
    "~\n",
    "\n",
    "~\n",
    "\n",
    "~\n",
    "\n",
    "~\n",
    "\n",
    "~\n",
    "\n",
    "~\n",
    "\n",
    "~\n",
    "\n",
    "\n",
    "\n",
    "\n",
    "\n",
    "\n",
    "\n",
    "\n"
   ]
  },
  {
   "cell_type": "code",
   "execution_count": 19,
   "metadata": {
    "collapsed": false
   },
   "outputs": [
    {
     "name": "stdout",
     "output_type": "stream",
     "text": [
      "Series for m =  1\n",
      "    121.5436037678517  nm \n",
      "    102.55241567912488  nm \n",
      "    97.23488301428137  nm \n",
      "    94.95594044363415  nm \n",
      "    93.76220862091418  nm \n",
      "Series for m =  2\n",
      "    656.3354603463993  nm \n",
      "    486.1744150714068  nm \n",
      "    434.084299170899  nm \n",
      "    410.2096627164995  nm \n",
      "    397.04243897498225  nm \n",
      "Series for m =  3\n",
      "    1875.2441724182836  nm \n",
      "    1281.9051959890612  nm \n",
      "    1093.8924339106654  nm \n",
      "    1005.013673655424  nm \n",
      "    954.6697605038536  nm \n"
     ]
    }
   ],
   "source": [
    "R = 1.097e-2\n",
    "for m in [1,2,3]:\n",
    "    print(\"Series for m = \",m)\n",
    "    for k in [1,2,3,4,5]:\n",
    "        n=k+m\n",
    "        invlambda = R*(1/m**2 - 1/n**2)\n",
    "        print(\"   \", 1/invlambda, \" nm \")"
   ]
  },
  {
   "cell_type": "markdown",
   "metadata": {},
   "source": [
    "Quicker method using range"
   ]
  },
  {
   "cell_type": "code",
   "execution_count": 20,
   "metadata": {
    "collapsed": false
   },
   "outputs": [
    {
     "name": "stdout",
     "output_type": "stream",
     "text": [
      "Series for m =  1\n",
      "    121.5436037678517  nm\n",
      "    102.55241567912488  nm\n",
      "    97.23488301428137  nm\n",
      "    94.95594044363415  nm\n",
      "    93.76220862091418  nm\n",
      "Series for m =  2\n",
      "    656.3354603463993  nm\n",
      "    486.1744150714068  nm\n",
      "    434.084299170899  nm\n",
      "    410.2096627164995  nm\n",
      "    397.04243897498225  nm\n",
      "Series for m =  3\n",
      "    1875.2441724182836  nm\n",
      "    1281.9051959890612  nm\n",
      "    1093.8924339106654  nm\n",
      "    1005.013673655424  nm\n",
      "    954.6697605038536  nm\n"
     ]
    }
   ],
   "source": [
    "R = 1.097e-2\n",
    "for m in range(1,4):\n",
    "    print(\"Series for m = \",m)\n",
    "    for n in range(m+1,m+6):\n",
    "        invlambda = R*(1/m**2 - 1/n**2)\n",
    "        print(\"   \",1/invlambda, \" nm\")"
   ]
  },
  {
   "cell_type": "code",
   "execution_count": null,
   "metadata": {
    "collapsed": true
   },
   "outputs": [],
   "source": []
  }
 ],
 "metadata": {
  "anaconda-cloud": {},
  "kernelspec": {
   "display_name": "Python 3",
   "language": "python",
   "name": "python3"
  },
  "language_info": {
   "codemirror_mode": {
    "name": "ipython",
    "version": 3
   },
   "file_extension": ".py",
   "mimetype": "text/x-python",
   "name": "python",
   "nbconvert_exporter": "python",
   "pygments_lexer": "ipython3",
   "version": "3.5.3"
  }
 },
 "nbformat": 4,
 "nbformat_minor": 0
}
