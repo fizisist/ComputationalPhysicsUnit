{
 "cells": [
  {
   "cell_type": "markdown",
   "metadata": {},
   "source": [
    "## In Class Exercise: Monte Carlo Integration\n",
    "\n",
    "Write a programme following the method of Monte Carlo Integration to calculate \n",
    "\n",
    "$$ I = \\int_0^2 \\sin^2 [\\frac{1}{x(2-x)}] dx. $$\n",
    "\n",
    "\n",
    "As you will need to calculate $f(x) = \\sin^2 [\\frac{1}{x(2-x)}]$ many times please write a user defined function for this part of your programme. "
   ]
  },
  {
   "cell_type": "code",
   "execution_count": 14,
   "metadata": {
    "collapsed": false
   },
   "outputs": [
    {
     "name": "stdout",
     "output_type": "stream",
     "text": [
      "The integral is equal to I =  1.478\n"
     ]
    }
   ],
   "source": [
    "import numpy as np\n",
    "import matplotlib.pyplot as plt\n",
    "#This just needed for the Notebook to show plots inline. \n",
    "%matplotlib inline \n",
    "\n",
    "#Define the function\n",
    "def f(x):\n",
    "    fx = (np.sin(1/(x*(2-x))))**2\n",
    "    return fx\n",
    "\n",
    "#Integrate the function from x=0-2\n",
    "#Note that you need to know the maximum value of the function\n",
    "#over this range (which is y=1), and therefore the area of the box\n",
    "#from which we draw random number is A=2. \n",
    "N=1000\n",
    "k=0\n",
    "for i in range(N):\n",
    "    x=2*np.random.random()\n",
    "    y=np.random.random()\n",
    "    if y<f(x):\n",
    "        k+=1\n",
    "A=2.        \n",
    "I=A*k/N\n",
    "print(\"The integral is equal to I = \",I)"
   ]
  },
  {
   "cell_type": "markdown",
   "metadata": {},
   "source": [
    "## In Class Exercise\n",
    "\n",
    "Returning to the programme you just wrote to calculate the integral of $f(x) = \\sin^2 [\\frac{1}{x(2-x)}]$, please now add an estimate of the accuracy of your integration. Using\n",
    "\n",
    "$$\\sigma_I = \\frac{\\sqrt{I(A-I)}}{\\sqrt(N)} $$"
   ]
  },
  {
   "cell_type": "code",
   "execution_count": 15,
   "metadata": {
    "collapsed": false
   },
   "outputs": [
    {
     "name": "stdout",
     "output_type": "stream",
     "text": [
      "The integral is equal to I =  1.478\n",
      "The error on the integral is equal to sigmaI = 0.0278\n"
     ]
    }
   ],
   "source": [
    "#Calculate the error: \n",
    "\n",
    "sigmaI = np.sqrt(I*(A-I))/np.sqrt(N)\n",
    "print(\"The integral is equal to I = \",I)\n",
    "print(\"The error on the integral is equal to sigmaI = {0:.4f}\".format(sigmaI))"
   ]
  },
  {
   "cell_type": "markdown",
   "metadata": {},
   "source": [
    "## In Class Exercise\n",
    "\n",
    "Now calculate the integral of $f(x) = \\sin^2 [\\frac{1}{x(2-x)}]$ using the mean value method, and compare the accuracy from 10000 sample to what you obtained previously. "
   ]
  },
  {
   "cell_type": "code",
   "execution_count": 16,
   "metadata": {
    "collapsed": false
   },
   "outputs": [
    {
     "name": "stdout",
     "output_type": "stream",
     "text": [
      "Mean Method: \n",
      "The integral is equal to I = 1.6332\n",
      "The error on the integral is equal to sigmaI = 0.0118\n",
      "The percent error is: 0.72 \n",
      "**********************\n",
      "Compare to the `hit or miss` Monte Carlo Method: \n",
      "The integral is equal to I = 1.4780\n",
      "The error on the integral is equal to sigmaI = 0.0278\n",
      "The percent error is: 1.88 \n"
     ]
    }
   ],
   "source": [
    "#Draw N values from the distribution, and calculate their mean to \n",
    "#use the mean method for integration. \n",
    "values=[]\n",
    "for i in range(N):\n",
    "    x=2*np.random.random()\n",
    "    y=np.random.random()\n",
    "    if y<f(x):\n",
    "        values.append(f(x))\n",
    "\n",
    "fmean=np.mean(values)\n",
    "Imean = 2*fmean\n",
    "Imeansigma = 2*np.sqrt(np.var(values))/np.sqrt(len(values))\n",
    "\n",
    "print(\"Mean Method: \")\n",
    "print(\"The integral is equal to I = {0:.4f}\".format(Imean))\n",
    "print(\"The error on the integral is equal to sigmaI = {0:.4f}\".format(Imeansigma))\n",
    "print(\"The percent error is: {0:.2f} \".format(100*Imeansigma/Imean))\n",
    "print(\"**********************\")\n",
    "print(\"Compare to the `hit or miss` Monte Carlo Method: \")\n",
    "print(\"The integral is equal to I = {0:.4f}\".format(I))\n",
    "print(\"The error on the integral is equal to sigmaI = {0:.4f}\".format(sigmaI))\n",
    "print(\"The percent error is: {0:.2f} \".format(100*sigmaI/I))"
   ]
  },
  {
   "cell_type": "code",
   "execution_count": 17,
   "metadata": {
    "collapsed": false
   },
   "outputs": [
    {
     "data": {
      "text/plain": [
       "<matplotlib.text.Text at 0x10d3ca8d0>"
      ]
     },
     "execution_count": 17,
     "metadata": {},
     "output_type": "execute_result"
    },
    {
     "data": {
      "image/png": "[encoded data removed]",
      "text/plain": [
       "<matplotlib.figure.Figure at 0x10d3ba7f0>"
      ]
     },
     "metadata": {},
     "output_type": "display_data"
    }
   ],
   "source": [
    "#Using mpl_style file.\n",
    "import mpl_style\n",
    "plt.style.use(mpl_style.style1)\n",
    "\n",
    "# the histogram of the data\n",
    "n, bins, patches = plt.hist(values, 100, normed=1, facecolor='m', alpha=0.75)\n",
    "\n",
    "#alpha is a parameter which sets the saturation of the colour\n",
    "#normed normalises the area to 1.  \n",
    "\n",
    "plt.xlabel('x')\n",
    "plt.ylabel('f(x)')\n"
   ]
  },
  {
   "cell_type": "code",
   "execution_count": 18,
   "metadata": {
    "collapsed": false
   },
   "outputs": [],
   "source": [
    "np.mean?"
   ]
  },
  {
   "cell_type": "code",
   "execution_count": null,
   "metadata": {
    "collapsed": true
   },
   "outputs": [],
   "source": []
  }
 ],
 "metadata": {
  "anaconda-cloud": {},
  "kernelspec": {
   "display_name": "Python [conda env:py35]",
   "language": "python",
   "name": "conda-env-py35-py"
  },
  "language_info": {
   "codemirror_mode": {
    "name": "ipython",
    "version": 3
   },
   "file_extension": ".py",
   "mimetype": "text/x-python",
   "name": "python",
   "nbconvert_exporter": "python",
   "pygments_lexer": "ipython3",
   "version": "3.5.2"
  }
 },
 "nbformat": 4,
 "nbformat_minor": 1
}
